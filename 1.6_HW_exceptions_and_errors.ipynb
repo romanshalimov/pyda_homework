{
 "cells": [
  {
   "cell_type": "markdown",
   "id": "40178df7",
   "metadata": {},
   "source": [
    "## 6. Исключения и обработка ошибок\n",
    "\n",
    "### Задание 1\n",
    "\n",
    "Печатные газеты использовали свой формат дат для каждого выпуска. Для каждой газеты из списка напишите формат указанной даты для перевода в объект дата и время:\n",
    "\n",
    "- The Moscow Times — среда, 2 октября 2002 г.\n",
    "- The Guardian — Пятница, 11.10.13\n",
    "- Ежедневные новости — Четверг, 18 августа 1977\n",
    "\n",
    "## 6. Exceptions and errors\n",
    "\n",
    "### Task 1\n",
    "\n",
    "Printed newspapers used their own date format for each issue. For each newspaper from the list, write the format of the specified date to be translated into the date and time object:\n",
    "- The Moscow Times — Wednesday, October 2, 2002\n",
    "- The Guardian — Friday, 11.10.13\n",
    "- Daily News — Thursday, August 18, 1977"
   ]
  },
  {
   "cell_type": "code",
   "execution_count": 2,
   "id": "8162bf7f",
   "metadata": {},
   "outputs": [
    {
     "name": "stdout",
     "output_type": "stream",
     "text": [
      "The Moscow Times 2002-10-02 00:00:00\n",
      "The Guardian 2013-10-11 00:00:00\n",
      "The Guardian 1977-08-18 00:00:00\n"
     ]
    }
   ],
   "source": [
    "from datetime import datetime\n",
    "\n",
    "print('The Moscow Times', datetime.strptime('Wednesday, October 02, 2002', '%A, %B %d, %Y'))\n",
    "print('The Guardian', datetime.strptime('Friday, 11.10.13', '%A, %d.%m.%y'))\n",
    "print('The Guardian', datetime.strptime('Thursday, 18 August 1977', '%A, %d %B %Y'))"
   ]
  },
  {
   "cell_type": "markdown",
   "id": "775a5041",
   "metadata": {},
   "source": [
    "### Задание 2\n",
    "\n",
    "Дан поток дат в формате YYYY-MM-DD, в которых встречаются некорректные значения: stream = [‘2018-04-02’, ‘2018-02-29’, ‘2018-19-02’]\n",
    "\n",
    "Напишите функцию, которая проверяет эти даты на корректность. Т. е. для каждой даты возвращает True (дата корректна) или False (некорректная дата).\n",
    "\n",
    "### Task 2\n",
    "\n",
    "Given a stream of dates in the format YYYY-MM-DD, in which incorrect values occur: stream = [‘2018-04-02’, ‘2018-02-29’, ‘2018-19-02’]\n",
    "\n",
    "Write a function that checks these dates for correctness. That is, for each date it returns True (the date is correct) or False (incorrect date)."
   ]
  },
  {
   "cell_type": "code",
   "execution_count": 3,
   "id": "6cb93136",
   "metadata": {},
   "outputs": [
    {
     "name": "stdout",
     "output_type": "stream",
     "text": [
      "2018-04-02 - True\n",
      "2018-02-29 - False\n",
      "2018-19-02 - False\n"
     ]
    }
   ],
   "source": [
    "from datetime import datetime\n",
    "\n",
    "stream = ['2018-04-02', '2018-02-29', '2018-19-02']\n",
    "\n",
    "def check(list_of_dates):\n",
    "    for days in list_of_dates:\n",
    "        try:\n",
    "            datetime.strptime(days, '%Y-%m-%d')\n",
    "            print(f'{days} - True')\n",
    "        except:\n",
    "            print(f'{days} - False')\n",
    "            \n",
    "check(stream)"
   ]
  },
  {
   "cell_type": "markdown",
   "id": "20472a89",
   "metadata": {},
   "source": [
    "### Задание 3\n",
    "\n",
    "Напишите функцию date_range, которая возвращает список дат за период от start_date до end_date. Даты должны вводиться в формате YYYY-MM-DD. В случае неверного формата или при start_date > end_date должен возвращаться пустой список.\n",
    "\n",
    "### Task 3\n",
    "\n",
    "Write a date_range function that returns a list of dates for the period from start_date to end_date. Dates must be entered in the YYYY-MM-DD format. If the format is incorrect or when start_date > end_date, an empty list should be returned."
   ]
  },
  {
   "cell_type": "code",
   "execution_count": 4,
   "id": "12caecf9",
   "metadata": {},
   "outputs": [
    {
     "name": "stdout",
     "output_type": "stream",
     "text": [
      "['2023-01-20', '2023-01-21', '2023-01-22', '2023-01-23']\n"
     ]
    }
   ],
   "source": [
    "from datetime import datetime\n",
    "from datetime import timedelta\n",
    "\n",
    "def date_range(start_date, end_date):\n",
    "    dates_list = []\n",
    "    try:\n",
    "        start_date_dt = datetime.strptime(start_date, '%Y-%m-%d')\n",
    "        end_date_dt = datetime.strptime(end_date, '%Y-%m-%d')\n",
    "        current_date_dt = start_date_dt\n",
    "    except:\n",
    "        print(dates_list)\n",
    "        return\n",
    "    if current_date_dt > end_date_dt:\n",
    "        print(dates_list)\n",
    "    else:\n",
    "        while current_date_dt <= end_date_dt:\n",
    "            dates_list.append(current_date_dt.strftime('%Y-%m-%d'))\n",
    "            current_date_dt += timedelta(days=1)\n",
    "        print(dates_list)\n",
    "\n",
    "date_range('2023-01-20', '2023-01-23')"
   ]
  },
  {
   "cell_type": "markdown",
   "id": "1e60a73a",
   "metadata": {},
   "source": [
    "### Задание 4\n",
    "\n",
    "Задание 4 (необязательное)\n",
    "Ваш коллега прислал код функции:\n",
    "\n",
    "DEFAULT_USER_COUNT = 3\n",
    "\n",
    "def delete_and_return_last_user(region, default_list=[‘A100’, ‘A101’, ‘A102’]):\n",
    "\n",
    "\"\"\" Удаляет из списка default_list последнего пользователя и возвращает ID нового последнего пользователя. \"\"\"\n",
    "\n",
    "element_to_delete = default_list[-1]\n",
    "\n",
    "default_list.remove(element_to_delete)\n",
    "\n",
    "return default_list[DEFAULT_USER_COUNT-2]\n",
    "\n",
    "При однократном вызове этой функции все работает корректно:\n",
    "\n",
    "delete_and_return_last_user(1)\n",
    "\n",
    "‘A101’\n",
    "\n",
    "Однако, при повторном вызове получается ошибка IndexError: list index out of range.\n",
    "\n",
    "Задание:\n",
    "- Что значит ошибка list index out of range?\n",
    "- Почему при первом запуске функция работает корректно, а при втором - нет?\n",
    "\n",
    "### Task 4\n",
    "\n",
    "Task 4 (optional)\n",
    "Your colleague sent the function code:\n",
    "\n",
    "DEFAULT_USER_COUNT = 3\n",
    "\n",
    "def delete_and_return_last_user(region, default_list=[‘A100’, ‘A101’, ‘A102’]):\n",
    "\n",
    "\"\"\" Removes the last user from the default_list list and returns the ID of the new last user. \"\"\"\n",
    "\n",
    "element_to_delete = default_list[-1]\n",
    "\n",
    "default_list.remove(element_to_delete)\n",
    "\n",
    "return default_list[DEFAULT_USER_COUNT-2]\n",
    "\n",
    "When calling this function once, everything works correctly:\n",
    "\n",
    "delete_and_return_last_user(1)\n",
    "\n",
    "‘A101’\n",
    "\n",
    "However, the repeated call results in an error IndexError: list index out of range.\n",
    "\n",
    "Task:\n",
    "- What does the list index out of range error mean?\n",
    "- Why does the function work correctly at the first launch, but not at the second?"
   ]
  },
  {
   "cell_type": "code",
   "execution_count": 5,
   "id": "00cb104d",
   "metadata": {},
   "outputs": [
    {
     "name": "stdout",
     "output_type": "stream",
     "text": [
      "A101\n"
     ]
    },
    {
     "ename": "IndexError",
     "evalue": "list index out of range",
     "output_type": "error",
     "traceback": [
      "\u001b[1;31m---------------------------------------------------------------------------\u001b[0m",
      "\u001b[1;31mIndexError\u001b[0m                                Traceback (most recent call last)",
      "Cell \u001b[1;32mIn[5], line 14\u001b[0m\n\u001b[0;32m     11\u001b[0m     \u001b[38;5;28;01mreturn\u001b[39;00m default_list[DEFAULT_USER_COUNT\u001b[38;5;241m-\u001b[39m\u001b[38;5;241m2\u001b[39m]\n\u001b[0;32m     13\u001b[0m \u001b[38;5;28mprint\u001b[39m(delete_and_return_last_user(\u001b[38;5;241m1\u001b[39m))\n\u001b[1;32m---> 14\u001b[0m \u001b[38;5;28mprint\u001b[39m(\u001b[43mdelete_and_return_last_user\u001b[49m\u001b[43m(\u001b[49m\u001b[38;5;241;43m1\u001b[39;49m\u001b[43m)\u001b[49m)\n",
      "Cell \u001b[1;32mIn[5], line 11\u001b[0m, in \u001b[0;36mdelete_and_return_last_user\u001b[1;34m(region, default_list)\u001b[0m\n\u001b[0;32m      8\u001b[0m element_to_delete \u001b[38;5;241m=\u001b[39m default_list[\u001b[38;5;241m-\u001b[39m\u001b[38;5;241m1\u001b[39m]\n\u001b[0;32m      9\u001b[0m default_list\u001b[38;5;241m.\u001b[39mremove(element_to_delete)\n\u001b[1;32m---> 11\u001b[0m \u001b[38;5;28;01mreturn\u001b[39;00m \u001b[43mdefault_list\u001b[49m\u001b[43m[\u001b[49m\u001b[43mDEFAULT_USER_COUNT\u001b[49m\u001b[38;5;241;43m-\u001b[39;49m\u001b[38;5;241;43m2\u001b[39;49m\u001b[43m]\u001b[49m\n",
      "\u001b[1;31mIndexError\u001b[0m: list index out of range"
     ]
    }
   ],
   "source": [
    "DEFAULT_USER_COUNT = 3\n",
    "\n",
    "def delete_and_return_last_user(region, default_list=['A100', 'A101', 'A102']):\n",
    "    \"\"\"\"\n",
    "    Удаляет из списка default_list последнего пользователя\n",
    "    и возвращает ID нового последнего пользователя.\n",
    "    \"\"\"\n",
    "    element_to_delete = default_list[-1]\n",
    "    default_list.remove(element_to_delete)\n",
    "\n",
    "    return default_list[DEFAULT_USER_COUNT-2]\n",
    "\n",
    "print(delete_and_return_last_user(1))\n",
    "print(delete_and_return_last_user(1))"
   ]
  },
  {
   "cell_type": "markdown",
   "id": "892fb514",
   "metadata": {},
   "source": [
    "1.Она обозначает попытку обратиться к элементу с номером, превышающим длину словаря - 1.\n",
    "\n",
    "2.Потому что функция использует список в качестве значения по умолчанию. Список изменяемый объект и после первого использования функции он изменяется. И при повторном вызове функции она использует укороченную версию значения по умолчанию."
   ]
  },
  {
   "cell_type": "markdown",
   "id": "233fcf87",
   "metadata": {},
   "source": [
    "![](Python_logo.png)"
   ]
  }
 ],
 "metadata": {
  "kernelspec": {
   "display_name": "Python 3 (ipykernel)",
   "language": "python",
   "name": "python3"
  },
  "language_info": {
   "codemirror_mode": {
    "name": "ipython",
    "version": 3
   },
   "file_extension": ".py",
   "mimetype": "text/x-python",
   "name": "python",
   "nbconvert_exporter": "python",
   "pygments_lexer": "ipython3",
   "version": "3.9.13"
  }
 },
 "nbformat": 4,
 "nbformat_minor": 5
}
