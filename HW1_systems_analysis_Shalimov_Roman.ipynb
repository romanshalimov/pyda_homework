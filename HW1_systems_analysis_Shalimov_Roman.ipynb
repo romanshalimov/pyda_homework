{
 "cells": [
  {
   "cell_type": "markdown",
   "id": "d8638d17",
   "metadata": {},
   "source": [
    "<h1 align=\"center\">Задание 1</h1>\n",
    "\n",
    "Маппинг данных - одна из типичных задач системного аналитика. Вам предстоит сопоставить данные полученные от сервиса DADATA с объектом, передаваемым в существующем методе сервера приложений интернет-магазина. Это позволит интегрировать сервис на клиентской стороне, не меняя при этом серверной части приложения.\n",
    "\n",
    "У вас есть таблица соответствия, в которой необходимо заполнить столбец “поле сервиса DADATA”:\n",
    "Чтобы его заполнить, вам понадобится документация сервиса, раздел “Что в ответе”."
   ]
  },
  {
   "cell_type": "code",
   "execution_count": 15,
   "id": "82669df0",
   "metadata": {},
   "outputs": [],
   "source": [
    "import pandas as pd"
   ]
  },
  {
   "cell_type": "code",
   "execution_count": 16,
   "id": "3767ba9a",
   "metadata": {},
   "outputs": [],
   "source": [
    "tabledata = [[\"Индекс\", 'delivery.address.index', 'data.postal_code'],\n",
    "         [\"Регион/ район\", 'delivery.address.district', 'data.region'],\n",
    "         [\"Город\", 'delivery.address.city', 'data.city'],\n",
    "         [\"Населённый пункт\", 'delivery.address.village', 'data.settlement '],\n",
    "            ['Улица','delivery.address.street','data.street'],\n",
    "            ['Дом','delivery.address.house','data.house'],\n",
    "            ['Корпус / Строение','delivery.address.structure','data.block'],\n",
    "            ['Квартира','delivery.address.flat','data.flat']]"
   ]
  },
  {
   "cell_type": "code",
   "execution_count": 13,
   "id": "87902d58",
   "metadata": {},
   "outputs": [
    {
     "data": {
      "text/html": [
       "<div>\n",
       "<style scoped>\n",
       "    .dataframe tbody tr th:only-of-type {\n",
       "        vertical-align: middle;\n",
       "    }\n",
       "\n",
       "    .dataframe tbody tr th {\n",
       "        vertical-align: top;\n",
       "    }\n",
       "\n",
       "    .dataframe thead th {\n",
       "        text-align: right;\n",
       "    }\n",
       "</style>\n",
       "<table border=\"1\" class=\"dataframe\">\n",
       "  <thead>\n",
       "    <tr style=\"text-align: right;\">\n",
       "      <th></th>\n",
       "      <th>Название поля</th>\n",
       "      <th>Поле в методе POST на стороне интернет-магазина</th>\n",
       "      <th>Поле сервиса DADATA</th>\n",
       "    </tr>\n",
       "  </thead>\n",
       "  <tbody>\n",
       "    <tr>\n",
       "      <th>0</th>\n",
       "      <td>Индекс</td>\n",
       "      <td>delivery.address.index</td>\n",
       "      <td>data.postal_code</td>\n",
       "    </tr>\n",
       "    <tr>\n",
       "      <th>1</th>\n",
       "      <td>Регион/ район</td>\n",
       "      <td>delivery.address.district</td>\n",
       "      <td>data.region</td>\n",
       "    </tr>\n",
       "    <tr>\n",
       "      <th>2</th>\n",
       "      <td>Город</td>\n",
       "      <td>delivery.address.city</td>\n",
       "      <td>data.city</td>\n",
       "    </tr>\n",
       "    <tr>\n",
       "      <th>3</th>\n",
       "      <td>Населённый пункт</td>\n",
       "      <td>delivery.address.village</td>\n",
       "      <td>data.settlement</td>\n",
       "    </tr>\n",
       "    <tr>\n",
       "      <th>4</th>\n",
       "      <td>Улица</td>\n",
       "      <td>delivery.address.street</td>\n",
       "      <td>data.street</td>\n",
       "    </tr>\n",
       "    <tr>\n",
       "      <th>5</th>\n",
       "      <td>Дом</td>\n",
       "      <td>delivery.address.house</td>\n",
       "      <td>data.house</td>\n",
       "    </tr>\n",
       "    <tr>\n",
       "      <th>6</th>\n",
       "      <td>Корпус / Строение</td>\n",
       "      <td>delivery.address.structure</td>\n",
       "      <td>data.block</td>\n",
       "    </tr>\n",
       "    <tr>\n",
       "      <th>7</th>\n",
       "      <td>Квартира</td>\n",
       "      <td>delivery.address.flat</td>\n",
       "      <td>data.flat</td>\n",
       "    </tr>\n",
       "  </tbody>\n",
       "</table>\n",
       "</div>"
      ],
      "text/plain": [
       "       Название поля Поле в методе POST на стороне интернет-магазина  \\\n",
       "0             Индекс                          delivery.address.index   \n",
       "1      Регион/ район                       delivery.address.district   \n",
       "2              Город                           delivery.address.city   \n",
       "3   Населённый пункт                        delivery.address.village   \n",
       "4              Улица                         delivery.address.street   \n",
       "5                Дом                          delivery.address.house   \n",
       "6  Корпус / Строение                      delivery.address.structure   \n",
       "7           Квартира                           delivery.address.flat   \n",
       "\n",
       "  Поле сервиса DADATA  \n",
       "0    data.postal_code  \n",
       "1         data.region  \n",
       "2           data.city  \n",
       "3    data.settlement   \n",
       "4         data.street  \n",
       "5          data.house  \n",
       "6          data.block  \n",
       "7           data.flat  "
      ]
     },
     "execution_count": 13,
     "metadata": {},
     "output_type": "execute_result"
    }
   ],
   "source": [
    "pd.DataFrame(tabledata, columns=['Название поля','Поле в методе POST на стороне интернет-магазина', 'Поле сервиса DADATA'])"
   ]
  }
 ],
 "metadata": {
  "kernelspec": {
   "display_name": "Python 3 (ipykernel)",
   "language": "python",
   "name": "python3"
  },
  "language_info": {
   "codemirror_mode": {
    "name": "ipython",
    "version": 3
   },
   "file_extension": ".py",
   "mimetype": "text/x-python",
   "name": "python",
   "nbconvert_exporter": "python",
   "pygments_lexer": "ipython3",
   "version": "3.9.13"
  }
 },
 "nbformat": 4,
 "nbformat_minor": 5
}
