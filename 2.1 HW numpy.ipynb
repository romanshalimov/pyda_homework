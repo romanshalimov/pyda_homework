{
 "cells": [
  {
   "cell_type": "markdown",
   "id": "43af62c5",
   "metadata": {},
   "source": [
    "## 1. Библиотека numpy. Вычислительные задачи\n",
    "\n",
    "### Задание 1\n",
    "\n",
    "Создайте numpy array с элементами от числа N до 0. Например, для N = 10 это будет array([9, 8, 7, 6, 5, 4, 3, 2, 1, 0])).\n",
    "\n",
    "## 1. Numpy library. Computational tasks\n",
    "\n",
    "### Task 1\n",
    "\n",
    "Create a numpy array with elements from the number N to 0. For example, for N = 10 it will be an array([9, 8, 7, 6, 5, 4, 3, 2, 1, 0]))."
   ]
  },
  {
   "cell_type": "code",
   "execution_count": 1,
   "id": "c81f5197",
   "metadata": {},
   "outputs": [],
   "source": [
    "import numpy as np"
   ]
  },
  {
   "cell_type": "code",
   "execution_count": 2,
   "id": "da3b61c8",
   "metadata": {},
   "outputs": [
    {
     "name": "stdout",
     "output_type": "stream",
     "text": [
      "[9 8 7 6 5 4 3 2 1 0]\n",
      "[14 13 12 11 10  9  8  7  6  5  4  3  2  1  0]\n",
      "[19 18 17 16 15 14 13 12 11 10  9  8  7  6  5  4  3  2  1  0]\n"
     ]
    }
   ],
   "source": [
    "def my_array(N):\n",
    "    x = np.arange(0,N)\n",
    "    return np.flip(x,0)\n",
    "    #np.sort(np.arange(0, N))[::-1]\n",
    "    #return np.arange(N-1,-1,-1)\n",
    "print(my_array(10))\n",
    "print(my_array(15))\n",
    "print(my_array(20))"
   ]
  },
  {
   "cell_type": "markdown",
   "id": "0406ce92",
   "metadata": {},
   "source": [
    "### Задание 2\n",
    "\n",
    "Создайте диагональную матрицу с элементами от N до 0. Посчитайте сумму ее значений на диагонали.\n",
    "\n",
    "### Task 2\n",
    "\n",
    "Create a diagonal matrix with elements from N to 0. Calculate the sum of its values on the diagonal."
   ]
  },
  {
   "cell_type": "code",
   "execution_count": 3,
   "id": "ec84183b",
   "metadata": {},
   "outputs": [
    {
     "name": "stdout",
     "output_type": "stream",
     "text": [
      "15\n",
      "55\n",
      "120\n"
     ]
    }
   ],
   "source": [
    "def sum_matrix(N):\n",
    "    my_matrix = np.diag(np.flip(np.arange(N,0,-1)))\n",
    "    return np.trace(my_matrix)\n",
    " \n",
    "print(sum_matrix(5))\n",
    "print(sum_matrix(10))\n",
    "print(sum_matrix(15))"
   ]
  },
  {
   "cell_type": "markdown",
   "id": "53372637",
   "metadata": {},
   "source": [
    "### Задание 3\n",
    "\n",
    "Имеется матрица покупок в интернет-магазине. Столбец А - ID пользователя. Остальные столбцы - количество покупок категорий товаров этим пользователем\n",
    "Матрица в виде numpy array\n",
    "\n",
    "На сайт заходит очередной посетитель, о покупках которого известно следующее:\n",
    "next_user_stats = np.array([0, 1, 2, 0, 0, 0])\n",
    "    \n",
    "Найдите индекс самого похожего пользователя max_index, т.е. посчитайте косинусное сходство между этим пользователем и всеми пользователями из массива user_stats.\n",
    "Нумерацию индексов следует начинать с 0  \n",
    "\n",
    "### Task 3\n",
    "\n",
    "There is a matrix of purchases in the online store. Column A is the user ID. The remaining columns are the number of purchases of product categories by this user\n",
    "A matrix in the form of a numpy array\n",
    "\n",
    "Another visitor comes to the site, about whose purchases the following is known:\n",
    "next_user_stats = np.array([0, 1, 2, 0, 0, 0])\n",
    "\n",
    "Find the index of the most similar user max_index, i.e. calculate the cosine similarity between this user and all users from the user_stats array.\n",
    "Index numbering should start from 0"
   ]
  },
  {
   "cell_type": "code",
   "execution_count": 4,
   "id": "89cb6fee",
   "metadata": {},
   "outputs": [
    {
     "name": "stdout",
     "output_type": "stream",
     "text": [
      "7\n"
     ]
    }
   ],
   "source": [
    "users_stats = np.array(\n",
    "    [\n",
    "        [2, 1, 0, 0, 0, 0],\n",
    "        [1, 1, 2, 1, 0, 0],\n",
    "        [2, 0, 1, 0, 0, 0],\n",
    "        [1, 1, 2, 1, 0, 1],\n",
    "        [0, 0, 1, 2, 0, 0],\n",
    "        [0, 0, 0, 0, 0, 5],\n",
    "        [1, 0, 0, 0, 0, 0],\n",
    "        [0, 1, 1, 0, 0, 0],\n",
    "        [0, 0, 0, 1, 1, 3],\n",
    "        [1, 0, 0, 2, 1, 4]\n",
    "    ], \n",
    ")\n",
    "\n",
    "next_user_stats = np.array([0, 1, 2, 0, 0, 0])\n",
    "\n",
    "next_user_length = np.linalg.norm(next_user_stats)\n",
    "cosine_convergence = []\n",
    "\n",
    "for user in users_stats:\n",
    "    old_user_length = np.linalg.norm(user)\n",
    "    cosinus = np.dot(next_user_stats,user) / (next_user_length*old_user_length)\n",
    "    cosine_convergence.append(cosinus)\n",
    "\n",
    "print(cosine_convergence.index(max(cosine_convergence)))"
   ]
  },
  {
   "cell_type": "markdown",
   "id": "c1491a42",
   "metadata": {},
   "source": [
    "![](Numpy_log.png)"
   ]
  }
 ],
 "metadata": {
  "kernelspec": {
   "display_name": "Python 3 (ipykernel)",
   "language": "python",
   "name": "python3"
  },
  "language_info": {
   "codemirror_mode": {
    "name": "ipython",
    "version": 3
   },
   "file_extension": ".py",
   "mimetype": "text/x-python",
   "name": "python",
   "nbconvert_exporter": "python",
   "pygments_lexer": "ipython3",
   "version": "3.9.13"
  }
 },
 "nbformat": 4,
 "nbformat_minor": 5
}
