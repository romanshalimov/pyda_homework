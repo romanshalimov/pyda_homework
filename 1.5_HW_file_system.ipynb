{
 "cells": [
  {
   "cell_type": "markdown",
   "id": "62678eff",
   "metadata": {},
   "source": [
    "## 5. Работа с файловой системой и модули\n",
    "\n",
    "1. Переведите содержимое файла purchase_log.txt в словарь purchases вида: {‘1840e0b9d4’: ‘Продукты’, …}\n",
    "\n",
    "2. Для каждого user_id в файле visit_log.csv определите третий столбец с категорией покупки (если покупка была, сам файл visit_log.csv изменять не надо). Запишите в файл funnel.csv визиты из файла visit_log.csv, в которых были покупки с указанием категории.\n",
    "\n",
    "Учтите условия на данные:\n",
    "\n",
    "содержимое purchase_log.txt помещается в оперативную память компьютера содержимое visit_log.csv - нет; используйте только построчную обработку этого файла\n",
    "\n",
    "## 5. Working with the file system and modules\n",
    "\n",
    "1. Translate the contents of the file purchase_log.txt in the dictionary purchases of the form: {‘1840e0b9d4’: ‘Products', ...}\n",
    "\n",
    "2. For each user_id in the visit_log.csv file, define the third column with the purchase category (if there was a purchase, the visit_log.csv file itself does not need to be changed). Write down in the funnel.csv file the visits from the visit_log.csv file, in which there were purchases indicating the category.\n",
    "\n",
    "Take into account the conditions for the data:\n",
    "\n",
    "content purchase_log.txt the contents of visit_log.csv are placed in the computer's RAM - no; use only line-by-line processing of this file"
   ]
  },
  {
   "cell_type": "code",
   "execution_count": 1,
   "id": "8f6dbfcc",
   "metadata": {},
   "outputs": [],
   "source": [
    "with open('purchase_log.txt','r', encoding='utf-8') as log: #откроем файл в необходимой кодировке\n",
    "    import json #импортируем библиотеку\n",
    "    new_log = [] #создадим пустой список\n",
    "    for line in log: #переберём строки в нашем файле\n",
    "        line = line.strip() #применим метод strip для удаления начальных и конечных символов\n",
    "        jsoned_log = json.loads(line) #приведём наши строки к Python-формату\n",
    "        new_log.append(jsoned_log) #добавим в пустой список new_log приведённые строки\n",
    "    log.close() #закроем наш файл, так как мы извлекли из него всё необходимое и он нам больше не нужен\n",
    "purchases_dictionary = {} #создадим пустой словарь (находиться в оперативной памяти)\n",
    "for logs in new_log:\n",
    "    purchases_dictionary[logs['user_id']] = logs['category'] #наполним наш словарь извлечёнными данными\n",
    "\n",
    "with open('visit_log.csv', 'r', encoding='utf-8') as visit: #откроем наш файл для чтения\n",
    "    with open('funnel.csv', 'w', encoding='utf-8') as funnel: #создадим новый файл funnel.csv\n",
    "        for line in visit: #переберём строки в нашем файле\n",
    "            line = line.strip().split(',') #применим методы strip и split, разбив по запятым на подстроки\n",
    "            if line[0] in purchases_dictionary.keys(): #если user_id в наших сущностях совпадают\n",
    "                line.append(purchases_dictionary[line[0]]) #соединим наши сущности исключая user_id\n",
    "                funnel.write(','.join(line)+\"\\n\") #запишем наши данные в файл funnel.csv применив метод join\n",
    "    visit.close() #закрываем файлы\n",
    "    funnel.close()"
   ]
  },
  {
   "cell_type": "markdown",
   "id": "0c21f6c4",
   "metadata": {},
   "source": [
    "![](Python_logo.png)"
   ]
  }
 ],
 "metadata": {
  "kernelspec": {
   "display_name": "Python 3 (ipykernel)",
   "language": "python",
   "name": "python3"
  },
  "language_info": {
   "codemirror_mode": {
    "name": "ipython",
    "version": 3
   },
   "file_extension": ".py",
   "mimetype": "text/x-python",
   "name": "python",
   "nbconvert_exporter": "python",
   "pygments_lexer": "ipython3",
   "version": "3.9.13"
  }
 },
 "nbformat": 4,
 "nbformat_minor": 5
}
