{
 "cells": [
  {
   "cell_type": "markdown",
   "id": "9acdcbfc",
   "metadata": {},
   "source": [
    "## 3. Введение в типы данных и циклы. Часть 2\n",
    "\n",
    "### Задание 1\n",
    "\n",
    "Дана переменная, в которой хранится словарь, содержащий геометки для каждого пользователя.\n",
    "Вам необходимо написать программу, которая выведет на экран множество уникальных геометок всех пользователей.\n",
    "\n",
    "## 3. Introduction to data types and loops. Part 2\n",
    "\n",
    "### Task 1\n",
    "\n",
    "A variable is given in which a dictionary containing geometries for each user is stored.\n",
    "You need to write a program that will display a lot of unique geometries of all users."
   ]
  },
  {
   "cell_type": "code",
   "execution_count": 1,
   "id": "b13013a6",
   "metadata": {},
   "outputs": [
    {
     "name": "stdout",
     "output_type": "stream",
     "text": [
      "{98, 35, 15, 213, 54, 119}\n"
     ]
    }
   ],
   "source": [
    "ids = {'user1': [213, 213, 213, 15, 213], \n",
    "       'user2': [54, 54, 119, 119, 119], \n",
    "       'user3': [213, 98, 98, 35]}\n",
    "\n",
    "unique_ids = []\n",
    "for key, value in ids.items():\n",
    "    unique_ids += value\n",
    "print(set(unique_ids))"
   ]
  },
  {
   "cell_type": "markdown",
   "id": "79869d3e",
   "metadata": {},
   "source": [
    "### Задание 2\n",
    "\n",
    "Дана переменная, в которой хранится список поисковых запросов пользователя. Вам необходимо написать программу, которая выведет на экран распределение количества слов в запросах в требуемом виде.\n",
    "\n",
    "### Task 2\n",
    "\n",
    "A variable is given in which the list of user search queries is stored. You need to write a program that will display the distribution of the number of words in the queries in the required form."
   ]
  },
  {
   "cell_type": "code",
   "execution_count": 2,
   "id": "a5f8945e",
   "metadata": {},
   "outputs": [
    {
     "name": "stdout",
     "output_type": "stream",
     "text": [
      "Запросов из 5 слов: 14.29%\n",
      "Запросов из 2 слов: 57.14%\n",
      "Запросов из 3 слов: 28.57%\n"
     ]
    }
   ],
   "source": [
    "from collections import Counter\n",
    "\n",
    "queries = [\n",
    "    'на западном фронте без перемен',\n",
    "    'памяти каталонии',\n",
    "    'прощай оружие',\n",
    "    'скотский хутор',\n",
    "    'жестяной барабан',\n",
    "    'курс по питону',\n",
    "    'чемодан самолёт лондон',\n",
    "]\n",
    "queries_len = len(queries)\n",
    "\n",
    "queries_lengths = []\n",
    "\n",
    "for query in queries:\n",
    "    splitted_query = query.split()\n",
    "    queries_lengths.append(len(splitted_query))\n",
    "\n",
    "counter_queries_lengths = Counter(queries_lengths)\n",
    "for key, value in counter_queries_lengths.items():\n",
    "    print(f'Запросов из {key} слов: {value/queries_len*100:.2f}%')"
   ]
  },
  {
   "cell_type": "markdown",
   "id": "04882391",
   "metadata": {},
   "source": [
    "### Задание 3\n",
    "\n",
    "Дана переменная, в которой хранится информация о затратах и доходе рекламных кампаний по различным источникам. Необходимо дополнить исходную структуру показателем ROI, который рассчитаем по формуле: (revenue / cost - 1) * 100\n",
    "\n",
    "### Task 3\n",
    "\n",
    "A variable is given that stores information about the costs and revenue of advertising campaigns from various sources. It is necessary to supplement the original structure with the ROI indicator, which we calculate using the formula: (revenue / cost - 1) * 100"
   ]
  },
  {
   "cell_type": "code",
   "execution_count": 3,
   "id": "e128f78d",
   "metadata": {},
   "outputs": [
    {
     "name": "stdout",
     "output_type": "stream",
     "text": [
      "{'vk': {'revenue': 103, 'cost': 98, 'ROI': 5.1}, 'yandex': {'revenue': 179, 'cost': 153, 'ROI': 16.99}, 'facebook': {'revenue': 103, 'cost': 110, 'ROI': -6.36}, 'adwords': {'revenue': 35, 'cost': 34, 'ROI': 2.94}, 'twitter': {'revenue': 11, 'cost': 24, 'ROI': -54.17}}\n"
     ]
    }
   ],
   "source": [
    "results = {\n",
    "    'vk': {'revenue': 103, 'cost': 98},\n",
    "    'yandex': {'revenue': 179, 'cost': 153},\n",
    "    'facebook': {'revenue': 103, 'cost': 110},\n",
    "    'adwords': {'revenue': 35, 'cost': 34},\n",
    "    'twitter': {'revenue': 11, 'cost': 24},\n",
    "}\n",
    "\n",
    "for company in results.values():\n",
    "    company['ROI'] = round(((company['revenue'] / company['cost'] - 1) * 100),2)\n",
    "print(results)"
   ]
  },
  {
   "cell_type": "markdown",
   "id": "e5c874fe",
   "metadata": {},
   "source": [
    "### Задание 4\n",
    "\n",
    "Дана переменная, в которой хранится статистика рекламных каналов по объёмам продаж. Напишите программу, которая возвращает название канала с максимальным объёмом продаж.\n",
    "\n",
    "### Task 4\n",
    "\n",
    "A variable is given in which the statistics of advertising channels by sales volumes are stored. Write a program that returns the name of the channel with the maximum sales volume."
   ]
  },
  {
   "cell_type": "code",
   "execution_count": 4,
   "id": "b9fbfd65",
   "metadata": {},
   "outputs": [
    {
     "name": "stdout",
     "output_type": "stream",
     "text": [
      "Максимальный объём продаж на рекламном канале: vk\n"
     ]
    }
   ],
   "source": [
    "stats = {'facebook': 55, 'yandex': 115, 'vk': 120, 'google': 99, 'email': 42, 'ok': 98}\n",
    "\n",
    "for key, value in stats.items():\n",
    "    if value == max([sale for sale in stats.values()]): \n",
    "        print(f'Максимальный объём продаж на рекламном канале: {key}')"
   ]
  },
  {
   "cell_type": "markdown",
   "id": "dae11318",
   "metadata": {},
   "source": [
    "### Задание 5\n",
    "\n",
    "Дан список произвольной длины. Необходимо написать код, который на основе исходного списка составит словарь такого уровня вложенности, какова длина исходyого списка.\n",
    "\n",
    "### Task 5\n",
    "\n",
    "A list of arbitrary length is given. It is necessary to write code that, based on the source list, makes a dictionary of such a level of nesting, what is the length of the source list."
   ]
  },
  {
   "cell_type": "code",
   "execution_count": 5,
   "id": "1b565e08",
   "metadata": {},
   "outputs": [
    {
     "name": "stdout",
     "output_type": "stream",
     "text": [
      "{'shla': {'sasha': {'po_shosse': 666}}}\n"
     ]
    }
   ],
   "source": [
    "list_for_query = ['shla', 'sasha', 'po_shosse', 666]\n",
    "\n",
    "key = ' '\n",
    "value = ' '\n",
    "\n",
    "list_for_query.reverse()\n",
    "\n",
    "for elements in list_for_query:\n",
    "    if (value != ' '):\n",
    "        key = value\n",
    "        value = {elements: key} \n",
    "    else: \n",
    "        value = elements\n",
    "print(value)"
   ]
  },
  {
   "cell_type": "markdown",
   "id": "675fa956",
   "metadata": {},
   "source": [
    "### Задание 6\n",
    "\n",
    "Дана книга рецептов с информацией о том, сколько ингредиентов нужно для приготовления блюда в расчете на одну порцию. Напишите программу, которая будет запрашивать у пользователя количество порций для приготовления этих блюд и отображать информацию о суммарном количестве требуемых ингредиентов в указанном виде. Внимание! Одинаковые ингридиенты с разными размерностями нужно считать раздельно!\n",
    "\n",
    "### Task 6\n",
    "\n",
    "A recipe book is given with information on how many ingredients are needed to prepare a dish per serving. Write a program that will ask the user for the number of servings for cooking these dishes and display information about the total number of required ingredients in the specified form. Attention! The same ingredients with different dimensions should be counted separately!"
   ]
  },
  {
   "cell_type": "code",
   "execution_count": 6,
   "id": "474e0494",
   "metadata": {},
   "outputs": [
    {
     "name": "stdout",
     "output_type": "stream",
     "text": [
      "Введите количество порций 5\n",
      "Сыр: 350 гр\n",
      "Томаты: 10 шт\n",
      "Огурцы: 100 гр\n",
      "Маслины: 50 гр\n",
      "Оливковое масло: 100 мл\n",
      "Салат: 50 гр\n",
      "Перец: 100 гр\n",
      "Колбаса: 150 гр\n",
      "Бекон: 150 гр\n",
      "Оливки: 50 гр\n",
      "Томаты: 100 гр\n",
      "Тесто: 500 гр\n",
      "Лимон: 5 шт\n",
      "Вода: 1000 мл\n",
      "Сахар: 50 гр\n",
      "Лайм: 100 гр\n"
     ]
    }
   ],
   "source": [
    "cook_book = {\n",
    "  'салат': [\n",
    "     {'ingridient_name': 'сыр', 'quantity': 50, 'measure': 'гр'},\n",
    "     {'ingridient_name': 'томаты', 'quantity': 2, 'measure': 'шт'},\n",
    "     {'ingridient_name': 'огурцы', 'quantity': 20, 'measure': 'гр'},\n",
    "     {'ingridient_name': 'маслины', 'quantity': 10, 'measure': 'гр'},\n",
    "     {'ingridient_name': 'оливковое масло', 'quantity': 20, 'measure': 'мл'},\n",
    "     {'ingridient_name': 'салат', 'quantity': 10, 'measure': 'гр'},\n",
    "     {'ingridient_name': 'перец', 'quantity': 20, 'measure': 'гр'}\n",
    "    ],\n",
    "  'пицца': [\n",
    "     {'ingridient_name': 'сыр', 'quantity': 20, 'measure': 'гр'},\n",
    "     {'ingridient_name': 'колбаса', 'quantity': 30, 'measure': 'гр'},\n",
    "     {'ingridient_name': 'бекон', 'quantity': 30, 'measure': 'гр'},\n",
    "     {'ingridient_name': 'оливки', 'quantity': 10, 'measure': 'гр'},\n",
    "     {'ingridient_name': 'томаты', 'quantity': 20, 'measure': 'гр'},\n",
    "     {'ingridient_name': 'тесто', 'quantity': 100, 'measure': 'гр'},   \n",
    "    ],\n",
    "  'лимонад': [\n",
    "     {'ingridient_name': 'лимон', 'quantity': 1, 'measure': 'шт'},\n",
    "     {'ingridient_name': 'вода', 'quantity': 200, 'measure': 'мл'},\n",
    "     {'ingridient_name': 'сахар', 'quantity': 10, 'measure': 'гр'},\n",
    "     {'ingridient_name': 'лайм', 'quantity': 20, 'measure': 'гр'},    \n",
    "    ]\n",
    "}\n",
    "\n",
    "portions = int(input('Введите количество порций '))\n",
    "recipes = {}\n",
    "\n",
    "for dishes, ingredients in cook_book.items():\n",
    "\n",
    "    for ingredient in ingredients:\n",
    "        named = ingredient ['ingridient_name']\n",
    "        dimension = ingredient ['measure']\n",
    "        quantity = ingredient ['quantity']\n",
    "        key = (named, dimension)\n",
    "        value = recipes.get(key, 0)\n",
    "        recipes [key] = portions * quantity + value\n",
    "        \n",
    "for ingridient_name, mass in recipes.items():\n",
    "    print(f\"{ingridient_name[0].capitalize()}: {mass} {ingridient_name[1]}\")"
   ]
  },
  {
   "cell_type": "markdown",
   "id": "881e88b3",
   "metadata": {},
   "source": [
    "![](Python_logo.png)"
   ]
  }
 ],
 "metadata": {
  "kernelspec": {
   "display_name": "Python 3 (ipykernel)",
   "language": "python",
   "name": "python3"
  },
  "language_info": {
   "codemirror_mode": {
    "name": "ipython",
    "version": 3
   },
   "file_extension": ".py",
   "mimetype": "text/x-python",
   "name": "python",
   "nbconvert_exporter": "python",
   "pygments_lexer": "ipython3",
   "version": "3.9.13"
  }
 },
 "nbformat": 4,
 "nbformat_minor": 5
}
