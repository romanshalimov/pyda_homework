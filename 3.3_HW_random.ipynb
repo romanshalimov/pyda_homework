{
 "cells": [
  {
   "cell_type": "markdown",
   "id": "e47d017f",
   "metadata": {},
   "source": [
    "<h1 align=\"center\">3. Случайные величины</h1>\n",
    "\n",
    "Смоделировать игру против лотерейного автомата типа “777”. Игрок платит 1 руб., после чего выпадает случайное целое число, равномерно распределенное от 0 до 999. При некоторых значениях числа игрок получает выигрыш.\n",
    "\n",
    "777: 200 руб.\n",
    "999: 100 руб.\n",
    "555: 50 руб.\n",
    "333: 15 руб.\n",
    "111: 10 руб.\n",
    "*77: 5 руб.\n",
    "**7: 3 руб.\n",
    "*00: 2 руб.\n",
    "**0: 1 руб.\n",
    "\n",
    "Вопросы:\n",
    "\n",
    "Выгодна ли игра игроку?\n",
    "Сколько в среднем приобретает или теряет игрок за одну игру?\n",
    "\n",
    "**Дополнительное задание повышенной сложности. **\n",
    "\n",
    "Теоретически рассчитать средний выигрыш (проигрыш) и сравнить с результатами моделирования\n",
    "\n",
    "– любая цифра"
   ]
  },
  {
   "cell_type": "code",
   "execution_count": 1,
   "id": "21bd62ac",
   "metadata": {},
   "outputs": [],
   "source": [
    "import numpy as np"
   ]
  },
  {
   "cell_type": "code",
   "execution_count": 2,
   "id": "f1cbaddb",
   "metadata": {},
   "outputs": [
    {
     "name": "stdout",
     "output_type": "stream",
     "text": [
      "-0.199330019933002\n"
     ]
    }
   ],
   "source": [
    "roubles = 0\n",
    "for i in range(10000000):\n",
    "    roubles -= 1 #знак остатка совпадает со знаком делителя\n",
    "    res = np.random.randint(0, 1000)\n",
    "    if res == 777:\n",
    "     roubles += 200\n",
    "    elif res == 999:\n",
    "     roubles += 100\n",
    "    elif res == 555:\n",
    "     roubles += 50\n",
    "    elif res == 333:\n",
    "     roubles += 15\n",
    "    elif res == 111:\n",
    "     roubles += 10\n",
    "    elif res % 100 == 77:\n",
    "     roubles += 5\n",
    "    elif res % 10 == 7:\n",
    "     roubles += 3\n",
    "    elif res % 100 == 0:\n",
    "     roubles += 2\n",
    "    elif res % 10 == 0:\n",
    "     roubles += 1\n",
    "entropy = roubles/i\n",
    "print(entropy)\n",
    "# игрок теряет 1/5 часть вложенных средств"
   ]
  },
  {
   "cell_type": "code",
   "execution_count": 206,
   "id": "77064f50",
   "metadata": {},
   "outputs": [
    {
     "data": {
      "text/plain": [
       "0.8"
      ]
     },
     "execution_count": 206,
     "metadata": {},
     "output_type": "execute_result"
    }
   ],
   "source": [
    "roubles_win = (200*(1/1000) +\n",
    "           100*(1/1000) +\n",
    "           50*(1/1000) +\n",
    "           15*(1/1000) +\n",
    "           10*(1/1000) +\n",
    "           5*(9/1000) +\n",
    "           3*(90/1000) +\n",
    "           2*(10/1000) +\n",
    "           1*(90/1000))\n",
    "roubles_win\n",
    "# средняя сумма выигрыша 0.8 рубля\n",
    "# результат почти совпадает с моделированным"
   ]
  },
  {
   "cell_type": "markdown",
   "id": "9bc44394",
   "metadata": {},
   "source": [
    "![](random.png)"
   ]
  }
 ],
 "metadata": {
  "kernelspec": {
   "display_name": "Python 3 (ipykernel)",
   "language": "python",
   "name": "python3"
  },
  "language_info": {
   "codemirror_mode": {
    "name": "ipython",
    "version": 3
   },
   "file_extension": ".py",
   "mimetype": "text/x-python",
   "name": "python",
   "nbconvert_exporter": "python",
   "pygments_lexer": "ipython3",
   "version": "3.9.13"
  }
 },
 "nbformat": 4,
 "nbformat_minor": 5
}
