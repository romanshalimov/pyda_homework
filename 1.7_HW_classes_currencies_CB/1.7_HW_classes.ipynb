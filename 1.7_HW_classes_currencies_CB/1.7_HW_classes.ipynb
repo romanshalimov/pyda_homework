{
 "cells": [
  {
   "cell_type": "markdown",
   "id": "762a96ec",
   "metadata": {},
   "source": [
    "## 7. Классы\n",
    "\n",
    "### Задание 1\n",
    "\n",
    "Напишите функцию, которая возвращает название валюты (поле ‘Name’) с максимальным значением курса с помощью сервиса\n",
    "\n",
    "\n",
    "## 7. Classes\n",
    "\n",
    "### Task 1\n",
    "\n",
    "Write a function that returns the name of the currency (the ‘Name’ field) with the maximum value of the exchange rate using the service"
   ]
  },
  {
   "cell_type": "code",
   "execution_count": 1,
   "id": "d7bd3c0c",
   "metadata": {},
   "outputs": [
    {
     "name": "stdout",
     "output_type": "stream",
     "text": [
      "СДР (специальные права заимствования)\n"
     ]
    }
   ],
   "source": [
    "from libs.exchange import Rate #применим класс Rate для решения задачи\n",
    "\n",
    "def max_rate():\n",
    "    currency_list = [(item['Name'], item['Value']) for item in Rate().exchange_rates().values()] #воспользуемся функцией exchange_rates для получения данных с сайта ЦБ\n",
    "    currency_list.sort(key = lambda currency: currency[1], reverse = True) #отсортируем полученный список\n",
    "    return(currency_list[0][0]) #выведем первую в списке валюту\n",
    "\n",
    "print(max_rate())"
   ]
  },
  {
   "cell_type": "markdown",
   "id": "932c6ba3",
   "metadata": {},
   "source": [
    "### Задание 2\n",
    "\n",
    "Добавьте в класс Rate параметр diff (со значениями True или False), который в случае значения True в методах курсов валют (eur, usd итд) будет возвращать не курс валюты, а изменение по сравнению в прошлым значением. Считайте, self.diff будет принимать значение True только при возврате значения курса.\n",
    "\n",
    "При отображении всей информации о валюте он не используется.\n",
    "\n",
    "### Task 2\n",
    "\n",
    "Add the diff parameter to the Rate class (with the values True or False), which, if True in the methods of exchange rates (eur, usd, etc.), will return not the exchange rate, but the change compared to the previous value. Consider self.diff to be True only when the course value is returned.\n",
    "\n",
    "When displaying all currency information, it is not used."
   ]
  },
  {
   "cell_type": "code",
   "execution_count": 2,
   "id": "4a3b2aeb",
   "metadata": {},
   "outputs": [
    {
     "name": "stdout",
     "output_type": "stream",
     "text": [
      "0.1303\n"
     ]
    }
   ],
   "source": [
    "import requests\n",
    "\n",
    "class Rate:\n",
    "    def __init__(self, format='value', diff = False):\n",
    "        self.format = format\n",
    "        self.diff = diff\n",
    "    \n",
    "    def exchange_rates(self):\n",
    "        \"\"\"\n",
    "        Возвращает ответ сервиса с информацией о валютах в виде:\n",
    "        \n",
    "        {\n",
    "            'AMD': {\n",
    "                'CharCode': 'AMD',\n",
    "                'ID': 'R01060',\n",
    "                'Name': 'Армянских драмов',\n",
    "                'Nominal': 100,\n",
    "                'NumCode': '051',\n",
    "                'Previous': 14.103,\n",
    "                'Value': 14.0879\n",
    "                },\n",
    "            ...\n",
    "        }\n",
    "        \"\"\"\n",
    "        self.r = requests.get('https://www.cbr-xml-daily.ru/daily_json.js')\n",
    "        return self.r.json()['Valute']\n",
    "    \n",
    "    def make_format(self, currency):\n",
    "        \"\"\"\n",
    "        Возвращает информацию о валюте currency в двух вариантах:\n",
    "        - полная информация о валюте при self.format = 'full':\n",
    "        Rate('full').make_format('EUR')\n",
    "        {\n",
    "            'CharCode': 'EUR',\n",
    "            'ID': 'R01239',\n",
    "            'Name': 'Евро',\n",
    "            'Nominal': 1,\n",
    "            'NumCode': '978',\n",
    "            'Previous': 79.6765,\n",
    "            'Value': 79.4966\n",
    "        }\n",
    "        \n",
    "        Rate('value').make_format('EUR')\n",
    "        79.4966\n",
    "        \"\"\"\n",
    "        response = self.exchange_rates()\n",
    "        \n",
    "        if currency in response:\n",
    "           if self.diff == False: \n",
    "               if self.format == 'full':\n",
    "                   return response[currency]\n",
    "            \n",
    "               if self.format == 'value':\n",
    "                return response[currency]['Value']\n",
    "        \n",
    "                return 'Error'\n",
    "           else:\n",
    "                return ((response[currency]['Value'] * 10 ** 6 - response[currency]['Previous'] * 10 ** 6) / 10 ** 6)\n",
    "\n",
    "    def eur(self):\n",
    "        \"\"\"Возвращает курс евро на сегодня в формате self.format\"\"\"\n",
    "        return self.make_format('EUR')\n",
    "    \n",
    "    def usd(self):\n",
    "        \"\"\"Возвращает курс доллара на сегодня в формате self.format\"\"\"\n",
    "        return self.make_format('USD')\n",
    "\n",
    "    def azn(self):\n",
    "        \"\"\"Возвращает курс азербайджанского маната на сегодня в формате self.format\"\"\"\n",
    "        return self.make_format('AZN')\n",
    "\n",
    "print(Rate(diff = True).azn())"
   ]
  },
  {
   "cell_type": "markdown",
   "id": "f8d05cfe",
   "metadata": {},
   "source": [
    "### Задание 3\n",
    "\n",
    "Напишите класс Designer, который учитывает количество международных премий.\n",
    "\n",
    "Подсказки в коде занятия в разделе “Домашнее задание задача 3”.\n",
    "\n",
    "Комментарий по классу Designer такой:\n",
    "\n",
    "Напишите класс Designer, который учитывает количество международных премий для дизайнеров (из презентации: “Повышение на 1 грейд за каждые 7 баллов. Получение международной премии – это +2 балла”). Считайте, что при выходе на работу сотрудник уже имеет две премии и их количество не меняется со стажем (конечно если хотите это можно вручную менять).\n",
    "\n",
    "Класс Designer пишется по аналогии с классом Developer из материалов занятия.\n",
    "\n",
    "### Task 3\n",
    "\n",
    "Write a Designer class that takes into account the number of international awards.\n",
    "\n",
    "Hints in the lesson code in the section “Homework task 3\".\n",
    "\n",
    "The comment on the Designer class is as follows:\n",
    "\n",
    "Write a Designer class that takes into account the number of international awards for designers (from the presentation: “An increase of 1 grade for every 7 points. Receiving an international award is +2 points”). Consider that when an employee goes to work, he already has two bonuses and their number does not change with experience (of course, if you want, you can manually change this).\n",
    "\n",
    "The Designer class is written by analogy with the Developer class from the materials of the lesson."
   ]
  },
  {
   "cell_type": "code",
   "execution_count": 3,
   "id": "55c56451",
   "metadata": {},
   "outputs": [
    {
     "name": "stdout",
     "output_type": "stream",
     "text": [
      "Roman 1\n",
      "Roman 1\n",
      "Roman 2\n",
      "Roman 2\n",
      "Roman 2\n",
      "Roman 2\n",
      "Roman 2\n",
      "Roman 2\n",
      "Roman 2\n",
      "Roman 3\n",
      "Roman 3\n",
      "Roman 3\n",
      "Roman 3\n",
      "Roman 3\n",
      "Roman 3\n",
      "Roman 3\n",
      "Roman 4\n",
      "Roman 4\n",
      "Roman 4\n",
      "Roman 4\n"
     ]
    }
   ],
   "source": [
    "class Employee:\n",
    "    def __init__(self, name, seniority):\n",
    "        self.name = name\n",
    "        self.seniority = seniority\n",
    "        \n",
    "        self.grade = 1\n",
    "    \n",
    "    def grade_up(self):\n",
    "        \"\"\"Повышает уровень сотрудника\"\"\"\n",
    "        self.grade += 1\n",
    "    \n",
    "    def publish_grade(self):\n",
    "        \"\"\"Публикация результатов аккредитации сотрудников\"\"\"\n",
    "        print(self.name, self.grade)\n",
    "    \n",
    "    def check_if_it_is_time_for_upgrade(self):\n",
    "        pass\n",
    "\n",
    "class Designer(Employee):\n",
    "    def __init__(self, name, seniority, awards):\n",
    "        super().__init__(name, seniority)\n",
    "        self.inter_prize = awards * 2\n",
    "        self.seniority += self.inter_prize\n",
    "    \n",
    "    def check_if_it_is_time_for_upgrade(self):\n",
    "        self.seniority += 1       \n",
    "        if self.seniority % 7 == 0:\n",
    "          self.grade_up()\n",
    "        \n",
    "        return self.publish_grade()\n",
    "\n",
    "roman = Designer('Roman', seniority = 0, awards = 2)\n",
    "\n",
    "for i in range(20):\n",
    "    roman.check_if_it_is_time_for_upgrade()"
   ]
  },
  {
   "cell_type": "markdown",
   "id": "e2ced32b",
   "metadata": {},
   "source": [
    "![](Python_logo.png)"
   ]
  }
 ],
 "metadata": {
  "kernelspec": {
   "display_name": "Python 3 (ipykernel)",
   "language": "python",
   "name": "python3"
  },
  "language_info": {
   "codemirror_mode": {
    "name": "ipython",
    "version": 3
   },
   "file_extension": ".py",
   "mimetype": "text/x-python",
   "name": "python",
   "nbconvert_exporter": "python",
   "pygments_lexer": "ipython3",
   "version": "3.9.13"
  }
 },
 "nbformat": 4,
 "nbformat_minor": 5
}
