{
 "cells": [
  {
   "cell_type": "markdown",
   "id": "9e5033f9",
   "metadata": {},
   "source": [
    "## 2. Библиотека Pandas\n",
    "\n",
    "### Задание 1\n",
    "\n",
    "Скачайте с сайта https://grouplens.org/datasets/movielens/ датасет любого размера.\n",
    "Определите какому фильму было выставлено больше всего оценок 5.0.\n",
    "\n",
    "## 2. Pandas Library\n",
    "\n",
    "### Task 1\n",
    "\n",
    "Download from the website https://grouplens.org/datasets/movielens / dataset of any size.\n",
    "Determine which movie was given the most 5.0 ratings."
   ]
  },
  {
   "cell_type": "code",
   "execution_count": 2,
   "id": "521cde5e",
   "metadata": {},
   "outputs": [],
   "source": [
    "import urllib.request\n",
    "import zipfile as z\n",
    "import pandas as pd"
   ]
  },
  {
   "cell_type": "code",
   "execution_count": 4,
   "id": "7c1b7936",
   "metadata": {},
   "outputs": [
    {
     "name": "stdout",
     "output_type": "stream",
     "text": [
      "Shawshank Redemption, The (1994)\n"
     ]
    }
   ],
   "source": [
    "destination = 'ml-10m.zip'\n",
    "url = 'https://files.grouplens.org/datasets/movielens/ml-10m.zip'\n",
    "urllib.request.urlretrieve(url, destination)\n",
    "\n",
    "zip_package = 'ml-10m.zip'\n",
    "\n",
    "movies_in_zip = zip_package.strip('ml-10m.zip') + 'ml-10M100K/movies.dat'                                                                          \n",
    "ratings_in_zip = zip_package.strip('ml-10m.zip') + 'ml-10M100K/ratings.dat'\n",
    "\n",
    "with z.ZipFile(zip_package, 'r') as data_in:\n",
    "    # data_in.printdir()\n",
    "    # print(data_in.namelist())\n",
    "    \n",
    "    with data_in.open(movies_in_zip, 'r') as m:\n",
    "        movies_list = [bytes.decode(line_, 'ISO-8859-1') for line_ in m.readlines()]\n",
    "    \n",
    "    with open('movies_list.txt', 'w', encoding='utf-8') as out_file_1:\n",
    "        out_file_1.writelines(''.join(movies_list))\n",
    "\n",
    "    with data_in.open(ratings_in_zip, 'r') as r:\n",
    "        ratings_list = [bytes.decode(line_, 'ISO-8859-1') for line_ in r.readlines()]\n",
    "  \n",
    "    with open('ratings_list.txt', 'w', encoding='utf-8') as out_file_2:\n",
    "        out_file_2.writelines(''.join(ratings_list))\n",
    "        \n",
    "with open('movies_list.txt', 'r', encoding='utf-8') as file_m:\n",
    "    dfm = pd.read_csv(file_m, sep=r'::', names = ['MovieID', 'Title', 'Genres'], engine='python')\n",
    "    \n",
    "with open('ratings_list.txt', 'r', encoding='utf-8') as file_r:\n",
    "    dfr = pd.read_csv(file_r, sep=r'::', names = ['UserID', 'MovieID', 'Rating', 'Timestamp'], engine='python')\n",
    "\n",
    "# print(dfm.head(10))\n",
    "# print(dfr.head(10))\n",
    "\n",
    "joined = dfr.merge(dfm, on='MovieID', how='left')\n",
    "fltr_cls = joined[['Title', 'Rating']]\n",
    "filtered = fltr_cls.query('Rating == 5')\n",
    "\n",
    "result = filtered['Title'].value_counts().head(1)\n",
    "print(str(result).split('  ')[0])"
   ]
  },
  {
   "cell_type": "markdown",
   "id": "9825524b",
   "metadata": {},
   "source": [
    "### Задание 2\n",
    "\n",
    "По данным файла power.csv посчитайте суммарное потребление стран Прибалтики (Латвия, Литва и Эстония) категорий 4, 12 и 21 за период с 2005 по 2010 года. Не учитывайте в расчетах отрицательные значения quantity.\n",
    "\n",
    "### Task 2\n",
    "\n",
    "According to the power.csv file, calculate the total consumption of the Baltic countries (Latvia, Lithuania and Estonia) of categories 4, 12 and 21 for the period from 2005 to 2010. Do not take into account negative quantity values in the calculations."
   ]
  },
  {
   "cell_type": "code",
   "execution_count": 7,
   "id": "38a016f0",
   "metadata": {},
   "outputs": [
    {
     "name": "stdout",
     "output_type": "stream",
     "text": [
      "240580.0\n"
     ]
    }
   ],
   "source": [
    "power = pd.read_csv('power.csv')\n",
    "\n",
    "power_1 = power[\n",
    "    (power['country'].isin(['Latvia', 'Lithuania', 'Estonia']))\n",
    "    & (power['category'].isin([4, 12, 21]))\n",
    "    & (power['year'].isin(range(2005, 2011)))\n",
    "    & (power['quantity'] > 0)\n",
    "    ]['quantity'] \\\n",
    "    .sum()\n",
    "\n",
    "print(power_1)"
   ]
  },
  {
   "cell_type": "markdown",
   "id": "11d84058",
   "metadata": {},
   "source": [
    "### Задание 3\n",
    "\n",
    "Выберите страницу любого сайта с табличными данными. Импортируйте таблицы в pandas dataframe.\n",
    "\n",
    "### Task 3\n",
    "\n",
    "Select a page of any site with tabular data. Import the tables into the pandas dataframe."
   ]
  },
  {
   "cell_type": "code",
   "execution_count": 11,
   "id": "4ebc7a03",
   "metadata": {},
   "outputs": [
    {
     "data": {
      "text/html": [
       "<div>\n",
       "<style scoped>\n",
       "    .dataframe tbody tr th:only-of-type {\n",
       "        vertical-align: middle;\n",
       "    }\n",
       "\n",
       "    .dataframe tbody tr th {\n",
       "        vertical-align: top;\n",
       "    }\n",
       "\n",
       "    .dataframe thead th {\n",
       "        text-align: right;\n",
       "    }\n",
       "</style>\n",
       "<table border=\"1\" class=\"dataframe\">\n",
       "  <thead>\n",
       "    <tr style=\"text-align: right;\">\n",
       "      <th></th>\n",
       "      <th>0</th>\n",
       "      <th>1</th>\n",
       "    </tr>\n",
       "  </thead>\n",
       "  <tbody>\n",
       "    <tr>\n",
       "      <th>0</th>\n",
       "      <td>Год</td>\n",
       "      <td>Количество умерших</td>\n",
       "    </tr>\n",
       "    <tr>\n",
       "      <th>1</th>\n",
       "      <td>1927</td>\n",
       "      <td>2 705 000</td>\n",
       "    </tr>\n",
       "    <tr>\n",
       "      <th>2</th>\n",
       "      <td>1928</td>\n",
       "      <td>2 589 000</td>\n",
       "    </tr>\n",
       "    <tr>\n",
       "      <th>3</th>\n",
       "      <td>1929</td>\n",
       "      <td>2 819 000</td>\n",
       "    </tr>\n",
       "    <tr>\n",
       "      <th>4</th>\n",
       "      <td>1930</td>\n",
       "      <td>2 738 000</td>\n",
       "    </tr>\n",
       "    <tr>\n",
       "      <th>...</th>\n",
       "      <td>...</td>\n",
       "      <td>...</td>\n",
       "    </tr>\n",
       "    <tr>\n",
       "      <th>86</th>\n",
       "      <td>2017</td>\n",
       "      <td>1 824 340</td>\n",
       "    </tr>\n",
       "    <tr>\n",
       "      <th>87</th>\n",
       "      <td>2018</td>\n",
       "      <td>1 817 710</td>\n",
       "    </tr>\n",
       "    <tr>\n",
       "      <th>88</th>\n",
       "      <td>2019</td>\n",
       "      <td>1 800 677</td>\n",
       "    </tr>\n",
       "    <tr>\n",
       "      <th>89</th>\n",
       "      <td>2020</td>\n",
       "      <td>2 124 479</td>\n",
       "    </tr>\n",
       "    <tr>\n",
       "      <th>90</th>\n",
       "      <td>2021</td>\n",
       "      <td>2 445 509</td>\n",
       "    </tr>\n",
       "  </tbody>\n",
       "</table>\n",
       "<p>91 rows × 2 columns</p>\n",
       "</div>"
      ],
      "text/plain": [
       "       0                   1\n",
       "0    Год  Количество умерших\n",
       "1   1927           2 705 000\n",
       "2   1928           2 589 000\n",
       "3   1929           2 819 000\n",
       "4   1930           2 738 000\n",
       "..   ...                 ...\n",
       "86  2017           1 824 340\n",
       "87  2018           1 817 710\n",
       "88  2019           1 800 677\n",
       "89  2020           2 124 479\n",
       "90  2021           2 445 509\n",
       "\n",
       "[91 rows x 2 columns]"
      ]
     },
     "execution_count": 11,
     "metadata": {},
     "output_type": "execute_result"
    }
   ],
   "source": [
    "python_analitics = pd.read_html('https://worldtable.info/gosudarstvo/smertnost-v-rossii-po-godam-tablica.html')\n",
    "python_analitics[0]"
   ]
  },
  {
   "cell_type": "markdown",
   "id": "8b638984",
   "metadata": {},
   "source": [
    "![](Pandas_logo.png)"
   ]
  }
 ],
 "metadata": {
  "kernelspec": {
   "display_name": "Python 3 (ipykernel)",
   "language": "python",
   "name": "python3"
  },
  "language_info": {
   "codemirror_mode": {
    "name": "ipython",
    "version": 3
   },
   "file_extension": ".py",
   "mimetype": "text/x-python",
   "name": "python",
   "nbconvert_exporter": "python",
   "pygments_lexer": "ipython3",
   "version": "3.9.13"
  }
 },
 "nbformat": 4,
 "nbformat_minor": 5
}
