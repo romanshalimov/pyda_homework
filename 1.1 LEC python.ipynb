{
  "nbformat": 4,
  "nbformat_minor": 0,
  "metadata": {
    "colab": {
      "provenance": []
    },
    "kernelspec": {
      "name": "python3",
      "display_name": "Python 3"
    },
    "language_info": {
      "name": "python"
    }
  },
  "cells": [
    {
      "cell_type": "markdown",
      "metadata": {
        "id": "edQI-m-cCgpV"
      },
      "source": [
        "# Основы Python\n",
        "\n",
        "Булыгин Олег:  \n",
        "* [LinkedIn](linkedin.com/in/obulygin)  \n",
        "* [Мой канал в ТГ по Python](https://t.me/pythontalk_ru)\n",
        "* [Чат канала](https://t.me/pythontalk_chat)\n",
        "* [Блог в Телетайпе](https://teletype.in/@pythontalk)\n",
        "* [PythonTalk на Кью](https://yandex.ru/q/loves/pythontalk/)"
      ]
    },
    {
      "cell_type": "markdown",
      "metadata": {
        "id": "yeFs_dLk5YJW"
      },
      "source": [
        "## PEP\n",
        "\n",
        "PEP (python enhanced proposal — заявки на улучшение языка python)."
      ]
    },
    {
      "cell_type": "markdown",
      "metadata": {
        "id": "hQ_c5hAl5eNt"
      },
      "source": [
        "PEP20 – Zen of Python\n",
        "\n",
        "Python придерживается философии, которую сформулировал Тим Петерс в 19 принципах. Её текст выдаётся интерпретатором Python по команде `import this`."
      ]
    },
    {
      "cell_type": "code",
      "metadata": {
        "id": "ANmgIu_25FK9",
        "colab": {
          "base_uri": "https://localhost:8080/"
        },
        "outputId": "1dc56fe6-fef2-44be-e9f9-4ae2559a084d"
      },
      "source": [
        "import this"
      ],
      "execution_count": null,
      "outputs": [
        {
          "output_type": "stream",
          "name": "stdout",
          "text": [
            "The Zen of Python, by Tim Peters\n",
            "\n",
            "Beautiful is better than ugly.\n",
            "Explicit is better than implicit.\n",
            "Simple is better than complex.\n",
            "Complex is better than complicated.\n",
            "Flat is better than nested.\n",
            "Sparse is better than dense.\n",
            "Readability counts.\n",
            "Special cases aren't special enough to break the rules.\n",
            "Although practicality beats purity.\n",
            "Errors should never pass silently.\n",
            "Unless explicitly silenced.\n",
            "In the face of ambiguity, refuse the temptation to guess.\n",
            "There should be one-- and preferably only one --obvious way to do it.\n",
            "Although that way may not be obvious at first unless you're Dutch.\n",
            "Now is better than never.\n",
            "Although never is often better than *right* now.\n",
            "If the implementation is hard to explain, it's a bad idea.\n",
            "If the implementation is easy to explain, it may be a good idea.\n",
            "Namespaces are one honking great idea -- let's do more of those!\n"
          ]
        }
      ]
    },
    {
      "cell_type": "markdown",
      "metadata": {
        "id": "9G-RZWKR5t71"
      },
      "source": [
        "PEP8\n",
        "\n",
        "PEP8 – соглашение о том, как писать код для языка python.\n",
        "Ключевая идея такова: код читается намного больше раз, чем пишется. Собственно, рекомендации о стиле написания кода направлены на то, чтобы улучшить читаемость кода и сделать его согласованным между большим числом проектов. В идеале, весь код будет написан в едином стиле, и любой сможет легко его прочесть.\n",
        "\n",
        "https://pythonworld.ru/osnovy/pep-8-rukovodstvo-po-napisaniyu-koda-na-python.html\n"
      ]
    },
    {
      "cell_type": "markdown",
      "source": [
        "## Немного доп. инфы про присваивание"
      ],
      "metadata": {
        "id": "jTSs3_pPQY3d"
      }
    },
    {
      "cell_type": "markdown",
      "source": [
        "Сокращённая запись операций присваивания"
      ],
      "metadata": {
        "id": "pImob1B0YwSt"
      }
    },
    {
      "cell_type": "code",
      "source": [
        "x = 2"
      ],
      "metadata": {
        "id": "nSHPr9DOQX9f"
      },
      "execution_count": null,
      "outputs": []
    },
    {
      "cell_type": "code",
      "source": [
        "# x = x + 1\n",
        "x += 1\n",
        "print(x)\n",
        "\n",
        "# x = x - 1\n",
        "x -= 1\n",
        "print(x)\n",
        "\n",
        "# x = x * 2\n",
        "x *= 2\n",
        "print(x)\n",
        "\n",
        "# x = x / 2\n",
        "x /= 2\n",
        "print(x)"
      ],
      "metadata": {
        "id": "PpbisCtMT-Bp",
        "colab": {
          "base_uri": "https://localhost:8080/"
        },
        "outputId": "0d0d39c5-926c-4422-f711-7b20665522b6"
      },
      "execution_count": null,
      "outputs": [
        {
          "output_type": "stream",
          "name": "stdout",
          "text": [
            "3\n",
            "2\n",
            "4\n",
            "2.0\n"
          ]
        }
      ]
    },
    {
      "cell_type": "markdown",
      "metadata": {
        "id": "lU7i_wOgRSHm"
      },
      "source": [
        "Множественное присваивание"
      ]
    },
    {
      "cell_type": "code",
      "metadata": {
        "id": "P6bCFVfmRWGy",
        "colab": {
          "base_uri": "https://localhost:8080/"
        },
        "outputId": "759e71b8-0c2a-493f-b3af-1aa51aee072b"
      },
      "source": [
        "name, pro, salary = 'John', 'Data Scientist', 100000\n",
        "print(name)\n",
        "print(pro)\n",
        "print(salary)"
      ],
      "execution_count": null,
      "outputs": [
        {
          "output_type": "stream",
          "name": "stdout",
          "text": [
            "John\n",
            "Data Scientist\n",
            "100000\n"
          ]
        }
      ]
    },
    {
      "cell_type": "markdown",
      "metadata": {
        "id": "erwQla1f2Q1s"
      },
      "source": [
        "Благодаря множественному присваиванию в Python легко решается задача замены переменных местами.\n",
        "\n",
        "В других языках эта задача решается через третью переменную."
      ]
    },
    {
      "cell_type": "code",
      "metadata": {
        "id": "nNGT-dkt2Q1s",
        "colab": {
          "base_uri": "https://localhost:8080/"
        },
        "outputId": "a97150f9-0c52-4aa7-b47d-26c667f1cbad"
      },
      "source": [
        "a = 14\n",
        "b = 'string'\n",
        "c = a\n",
        "a = b\n",
        "b = c\n",
        "print(a, b)"
      ],
      "execution_count": null,
      "outputs": [
        {
          "output_type": "stream",
          "name": "stdout",
          "text": [
            "string 14\n"
          ]
        }
      ]
    },
    {
      "cell_type": "code",
      "source": [
        "a = 14\n",
        "b = 'string'\n",
        "a = b\n",
        "print(a)\n",
        "print(b)"
      ],
      "metadata": {
        "colab": {
          "base_uri": "https://localhost:8080/"
        },
        "id": "L2EWHoAFSs-_",
        "outputId": "fcd76a87-d435-46a8-c28d-c77e834de8bc"
      },
      "execution_count": null,
      "outputs": [
        {
          "output_type": "stream",
          "name": "stdout",
          "text": [
            "string\n",
            "string\n"
          ]
        }
      ]
    },
    {
      "cell_type": "markdown",
      "metadata": {
        "id": "Nva22H5j2Q1t"
      },
      "source": [
        "А в Python можно так:"
      ]
    },
    {
      "cell_type": "code",
      "metadata": {
        "id": "qMqqa8I82Q1t",
        "colab": {
          "base_uri": "https://localhost:8080/"
        },
        "outputId": "46453d3f-d291-4e86-959d-9ac8ef964eb5"
      },
      "source": [
        "a, b = b, a\n",
        "print(a, b)"
      ],
      "execution_count": null,
      "outputs": [
        {
          "output_type": "stream",
          "name": "stdout",
          "text": [
            "14 string\n"
          ]
        }
      ]
    },
    {
      "cell_type": "markdown",
      "source": [
        "## Проблема точности округления в Python"
      ],
      "metadata": {
        "id": "kw_ODx9eycPy"
      }
    },
    {
      "cell_type": "code",
      "source": [
        "print(0.15 + 0.15 == 0.3)"
      ],
      "metadata": {
        "colab": {
          "base_uri": "https://localhost:8080/"
        },
        "id": "G4JpMV5DzJGa",
        "outputId": "c2389f86-7de8-45c9-d933-eceece15024e"
      },
      "execution_count": null,
      "outputs": [
        {
          "output_type": "stream",
          "name": "stdout",
          "text": [
            "True\n"
          ]
        }
      ]
    },
    {
      "cell_type": "code",
      "source": [
        "print((0.1 + 0.15 + 0.05) == (0.1 + 0.1 + 0.1))"
      ],
      "metadata": {
        "colab": {
          "base_uri": "https://localhost:8080/"
        },
        "id": "sfkv1T6QzRar",
        "outputId": "4f16b3f6-9ac7-4826-cdf3-f9f702005623"
      },
      "execution_count": null,
      "outputs": [
        {
          "output_type": "stream",
          "name": "stdout",
          "text": [
            "False\n"
          ]
        }
      ]
    },
    {
      "cell_type": "code",
      "source": [
        "print(0.1 + 0.15 + 0.05)"
      ],
      "metadata": {
        "colab": {
          "base_uri": "https://localhost:8080/"
        },
        "id": "O2SwVCkfzUOP",
        "outputId": "4b28f7ac-56dc-45cc-bc47-67b3d74374a8"
      },
      "execution_count": null,
      "outputs": [
        {
          "output_type": "stream",
          "name": "stdout",
          "text": [
            "0.3\n"
          ]
        }
      ]
    },
    {
      "cell_type": "code",
      "source": [
        "print(0.1 + 0.1 + 0.1)"
      ],
      "metadata": {
        "colab": {
          "base_uri": "https://localhost:8080/"
        },
        "id": "BZb8oN-JzW8P",
        "outputId": "e1b61a94-c1cd-4d97-dba1-9ebc7993efdc"
      },
      "execution_count": null,
      "outputs": [
        {
          "output_type": "stream",
          "name": "stdout",
          "text": [
            "0.30000000000000004\n"
          ]
        }
      ]
    },
    {
      "cell_type": "markdown",
      "source": [
        "Стои избегать прямого сравнения float, если вам важна точность операций. \n",
        "\n",
        "Для исправления этой проблемы есть отдельные типы данных, [изучите самостоятельно](https://teletype.in/@pythontalk/floating_point_problem)."
      ],
      "metadata": {
        "id": "LwLAzkHrzYMn"
      }
    },
    {
      "cell_type": "markdown",
      "metadata": {
        "id": "HDq-QZ_UwPDr"
      },
      "source": [
        "## [f-строки](https://teletype.in/@pythontalk/f_strings)\n",
        "\n",
        "Добавляя префикс f к строке можно встраивать в нее произвольные выражения при помощи фигурных скобок – { }."
      ]
    },
    {
      "cell_type": "markdown",
      "metadata": {
        "id": "kohJ7Byxirex"
      },
      "source": [
        "Можно разделять периоды чисел любым разделителем"
      ]
    },
    {
      "cell_type": "code",
      "metadata": {
        "colab": {
          "base_uri": "https://localhost:8080/"
        },
        "id": "nb0QYsTZiiGe",
        "outputId": "4d81476c-6fe3-4725-e428-2f05175cd013"
      },
      "source": [
        "year_salary = 10000000\n",
        "\n",
        "print(f'Годовая зарплата: ${year_salary :,}')"
      ],
      "execution_count": null,
      "outputs": [
        {
          "output_type": "stream",
          "name": "stdout",
          "text": [
            "Годовая зарплата: $10,000,000\n"
          ]
        }
      ]
    },
    {
      "cell_type": "markdown",
      "metadata": {
        "id": "vNJl0kXqh8G9"
      },
      "source": [
        "Можно представлять числа с округлением до нужного количества знаков"
      ]
    },
    {
      "cell_type": "code",
      "metadata": {
        "id": "B0d8X-PmwPDs",
        "colab": {
          "base_uri": "https://localhost:8080/"
        },
        "outputId": "11bc3acc-35f0-4c56-c8d5-eb963761df0f"
      },
      "source": [
        "pi_value = 3.141592653589793\n",
        "\n",
        "print(f'Число Пи: {pi_value :.2f}')"
      ],
      "execution_count": null,
      "outputs": [
        {
          "output_type": "stream",
          "name": "stdout",
          "text": [
            "Число Пи: 3.14\n"
          ]
        }
      ]
    },
    {
      "cell_type": "markdown",
      "metadata": {
        "id": "gAgqIV6fdb-i"
      },
      "source": [
        "Выведем результат в виде\n",
        "```\n",
        "Pluto weighs about 1.3e+22 kilograms (0.218% of Earth's mass). It is home to 52,910,390 Plutonians.\n",
        "```"
      ]
    },
    {
      "cell_type": "code",
      "metadata": {
        "id": "aVeAnbGqdbaH"
      },
      "source": [
        "planet = 'pluto'\n",
        "pluto_mass = 1.303 * 10**22\n",
        "earth_mass = 5.9722 * 10**24\n",
        "population = 52910390"
      ],
      "execution_count": null,
      "outputs": []
    },
    {
      "cell_type": "code",
      "metadata": {
        "id": "niMc9wUIyMFa",
        "colab": {
          "base_uri": "https://localhost:8080/"
        },
        "outputId": "7ee43ee8-9775-4bc4-fb4e-3d1d1df010fa"
      },
      "source": [
        "res = f\"{planet.capitalize()} weighs about {pluto_mass :.1e} kilograms ({pluto_mass/earth_mass :.3%} Earth's mass).It is home to {population :,} Plutonians.\"\n",
        "\n",
        "print(res)"
      ],
      "execution_count": null,
      "outputs": [
        {
          "output_type": "stream",
          "name": "stdout",
          "text": [
            "Pluto weighs about 1.3e+22 kilograms (0.218% Earth's mass).It is home to 52,910,390 Plutonians.\n"
          ]
        }
      ]
    },
    {
      "cell_type": "markdown",
      "metadata": {
        "id": "2iY1yLYcbLAp"
      },
      "source": [
        "**Практика**. Рост девушки 170 см, а высота каблуков — 19 см. Определите рост девушки на каблуках в _метрах_ и выведите информацию в виде: `Рост в метрах: *** ` с округлением до двух знаков."
      ]
    },
    {
      "cell_type": "code",
      "metadata": {
        "id": "6YyjAgt6bAKm"
      },
      "source": [
        "heels_height_cm = 18.5\n",
        "height_cm = 174.3"
      ],
      "execution_count": null,
      "outputs": []
    },
    {
      "cell_type": "code",
      "source": [
        "print(f'Рост в м: {(heels_height_cm + height_cm) / 100 :.2f}')"
      ],
      "metadata": {
        "colab": {
          "base_uri": "https://localhost:8080/"
        },
        "id": "YffX6A82YMr-",
        "outputId": "738adac4-cfba-4184-a27b-49355e586164"
      },
      "execution_count": null,
      "outputs": [
        {
          "output_type": "stream",
          "name": "stdout",
          "text": [
            "Рост в м: 1.93\n"
          ]
        }
      ]
    },
    {
      "cell_type": "code",
      "source": [
        "print(f\"Рост в метрах: {round((heels_height_cm + height_cm) / 100, 2)}\")"
      ],
      "metadata": {
        "colab": {
          "base_uri": "https://localhost:8080/"
        },
        "id": "lzKnVj3vYbd5",
        "outputId": "7c78696f-8330-4349-80a9-45cd7d3c26f8"
      },
      "execution_count": null,
      "outputs": [
        {
          "output_type": "stream",
          "name": "stdout",
          "text": [
            "Рост в метрах: 1.93\n"
          ]
        }
      ]
    },
    {
      "cell_type": "code",
      "source": [
        "print(f'Рост в метрах: {(heels_height_cm + height_cm) / 100 : .2f}')"
      ],
      "metadata": {
        "colab": {
          "base_uri": "https://localhost:8080/"
        },
        "id": "6uqbGtOVYcXs",
        "outputId": "004d4c29-dc99-4709-b1a9-fb3a7193dd10"
      },
      "execution_count": null,
      "outputs": [
        {
          "output_type": "stream",
          "name": "stdout",
          "text": [
            "Рост в метрах:  1.93\n"
          ]
        }
      ]
    },
    {
      "cell_type": "code",
      "source": [
        "height_m = (height_cm - heels_height_cm) / 100\n",
        "res = f'Рост в метрах: {height_m :.2f}'\n",
        "print(res)"
      ],
      "metadata": {
        "colab": {
          "base_uri": "https://localhost:8080/"
        },
        "id": "e5iAP6H9YeaD",
        "outputId": "af31399a-24e9-4b6b-eae9-64fa39bf620e"
      },
      "execution_count": null,
      "outputs": [
        {
          "output_type": "stream",
          "name": "stdout",
          "text": [
            "Рост в метрах: 1.56\n"
          ]
        }
      ]
    },
    {
      "cell_type": "code",
      "source": [
        "print(f'Рост в метрах: {heels_height_cm + height_cm :.2f}')"
      ],
      "metadata": {
        "colab": {
          "base_uri": "https://localhost:8080/"
        },
        "id": "Y55_T5RaYfWr",
        "outputId": "278963e0-f310-4713-acde-ac03204ef862"
      },
      "execution_count": null,
      "outputs": [
        {
          "output_type": "stream",
          "name": "stdout",
          "text": [
            "Рост в метрах: 192.80\n"
          ]
        }
      ]
    },
    {
      "cell_type": "markdown",
      "source": [
        "## Пользовательский ввод\n",
        "\n",
        "input запрашивает ввод и возвращает *строку*. Если мы хотим работать с числами, то нужно изменить тип объекта (при помощи int/float)"
      ],
      "metadata": {
        "id": "aoS9dD0hQ6M8"
      }
    },
    {
      "cell_type": "markdown",
      "source": [
        "**Практика**. Запросите у пользователя количества байт.\n",
        "Переведите их мегабатайты и выведите на экран в виде: `Количество мегабайт: *** `"
      ],
      "metadata": {
        "id": "XeJek1U2ZJBn"
      }
    },
    {
      "cell_type": "code",
      "source": [
        "print('Количество мегабайт: ', int(input()) / 1024 / 1024)"
      ],
      "metadata": {
        "id": "9MLfDgD5Q8p7",
        "colab": {
          "base_uri": "https://localhost:8080/"
        },
        "outputId": "bb812cf0-291b-4000-d58f-eb0add37f22b"
      },
      "execution_count": null,
      "outputs": [
        {
          "output_type": "stream",
          "name": "stdout",
          "text": [
            "1000\n",
            "Количество мегабайт:  0.00095367431640625\n"
          ]
        }
      ]
    },
    {
      "cell_type": "code",
      "source": [
        "b1 = int(input('Введите количество байт: '))\n",
        "print('Мегабайт: ', b1 / 1000)"
      ],
      "metadata": {
        "colab": {
          "base_uri": "https://localhost:8080/"
        },
        "id": "fbLtoTHXZyza",
        "outputId": "9a5694b3-43c8-4e47-b613-42d06235edec"
      },
      "execution_count": null,
      "outputs": [
        {
          "output_type": "stream",
          "name": "stdout",
          "text": [
            "Введите количество байт: 1000\n",
            "Мегабайт:  1.0\n"
          ]
        }
      ]
    },
    {
      "cell_type": "markdown",
      "metadata": {
        "id": "PY_n-RlR54ON"
      },
      "source": [
        "## Краткая запись односложных условий из if и else"
      ]
    },
    {
      "cell_type": "code",
      "metadata": {
        "id": "D2owehr25SCh",
        "colab": {
          "base_uri": "https://localhost:8080/"
        },
        "outputId": "cdd4e4c1-7bf6-40a0-a375-c5b1085fdee6"
      },
      "source": [
        "# это стандартная запись\n",
        "\n",
        "num = 6\n",
        "\n",
        "if num % 2 == 0:\n",
        "    print('Чётное')"
      ],
      "execution_count": null,
      "outputs": [
        {
          "output_type": "stream",
          "name": "stdout",
          "text": [
            "Чётное\n"
          ]
        }
      ]
    },
    {
      "cell_type": "code",
      "metadata": {
        "id": "SG4lSwW46IPf",
        "colab": {
          "base_uri": "https://localhost:8080/"
        },
        "outputId": "10fac6c9-e5e3-4b34-b117-04d834c569fc"
      },
      "source": [
        "# можно записать и так, если в условии только if\n",
        "if num % 2 == 0: print('Чётное') "
      ],
      "execution_count": null,
      "outputs": [
        {
          "output_type": "stream",
          "name": "stdout",
          "text": [
            "Чётное\n"
          ]
        }
      ]
    },
    {
      "cell_type": "code",
      "source": [
        "num = 7\n",
        "\n",
        "if num % 2 == 0:\n",
        "    print('Чётное')\n",
        "else:\n",
        "    print('Нечётное')"
      ],
      "metadata": {
        "id": "IjKI5UeGaS-E"
      },
      "execution_count": null,
      "outputs": []
    },
    {
      "cell_type": "code",
      "metadata": {
        "id": "pf8KAcfm6MGE",
        "colab": {
          "base_uri": "https://localhost:8080/"
        },
        "outputId": "4556d9cf-0a72-4b71-be30-4b3c936a9b72"
      },
      "source": [
        "# если в условии и if и esle, то можно так\n",
        "print('Чётное') if num % 2 == 0 else print('Нечётное')"
      ],
      "execution_count": null,
      "outputs": [
        {
          "output_type": "stream",
          "name": "stdout",
          "text": [
            "Чётное\n"
          ]
        }
      ]
    },
    {
      "cell_type": "code",
      "source": [
        "grade = 160\n",
        "age = 16\n",
        "\n",
        "if grade < 100 and age > 18:\n",
        "    print('На пересдачу')\n",
        "elif grade < 150 and age > 18:\n",
        "    print('В колледж')\n",
        "elif grade < 200 and age > 18:\n",
        "    print('В МГУ')\n",
        "else:\n",
        "    print('Нобелевка')"
      ],
      "metadata": {
        "colab": {
          "base_uri": "https://localhost:8080/"
        },
        "id": "eLIqUBowbQGP",
        "outputId": "c462ced5-14cd-4d09-a7c9-f1dbcc1c6a8d"
      },
      "execution_count": null,
      "outputs": [
        {
          "output_type": "stream",
          "name": "stdout",
          "text": [
            "Нобелевка\n"
          ]
        }
      ]
    },
    {
      "cell_type": "code",
      "source": [
        "grade = 170\n",
        "age = 20\n",
        "\n",
        "if age > 18:\n",
        "    if grade < 100:\n",
        "        print('На пересдачу')\n",
        "    elif grade < 150:\n",
        "        print('В колледж')\n",
        "    elif grade < 200:\n",
        "        print('В МГУ')\n",
        "    else:\n",
        "        print('Нобелевка')\n",
        "else:\n",
        "    print('Доучись')"
      ],
      "metadata": {
        "colab": {
          "base_uri": "https://localhost:8080/"
        },
        "id": "hFotYuUlbQOc",
        "outputId": "8166da84-e8d6-4915-eef1-85498237169e"
      },
      "execution_count": null,
      "outputs": [
        {
          "output_type": "stream",
          "name": "stdout",
          "text": [
            "В МГУ\n"
          ]
        }
      ]
    },
    {
      "cell_type": "code",
      "source": [
        "# day = 30\n",
        "# month = 8\n",
        "\n",
        "# if ...\n",
        "# elif\n",
        "# elif..\n",
        "# elif\n",
        "\n",
        "\n",
        "# if (month == 8 and 22 <= day <= 31) or (month == 9 and 1 <= day <= 22):\n",
        "#     print('....')\n"
      ],
      "metadata": {
        "id": "8HNpT2EVbQQ4"
      },
      "execution_count": null,
      "outputs": []
    },
    {
      "cell_type": "markdown",
      "source": [
        "Дана переменная, в которой хранится шестизначное число (номер проездного билета). Напишите программу, которая будет определять, является ли данный билет \"счастливым\". Билет считается счастливым, если сумма первых трех цифр совпадает с суммой последних трех цифр номера.\n",
        "\n"
      ],
      "metadata": {
        "id": "Z2ZrkFEEfpbi"
      }
    },
    {
      "cell_type": "code",
      "source": [
        "number = 123456\n",
        "\n",
        "num_1 = number // 100000\n",
        "print(num_1)\n",
        "num_2 = number // 10000 % 10\n",
        "print(num_2)\n",
        "num_3 = number // 1000 % 10\n",
        "print(num_3)"
      ],
      "metadata": {
        "colab": {
          "base_uri": "https://localhost:8080/"
        },
        "id": "py0itqwlbQXC",
        "outputId": "dbe09242-6f91-4f95-b9a6-1a09c41d0ee2"
      },
      "execution_count": null,
      "outputs": [
        {
          "output_type": "stream",
          "name": "stdout",
          "text": [
            "1\n",
            "2\n",
            "3\n"
          ]
        }
      ]
    },
    {
      "cell_type": "markdown",
      "source": [
        "Ипотечный калькулятор В новом банке решили начать выдавать ипотеку. Появилась необходимость разработать для них ипотечный калькулятор. Нужно рассчитать финальную процентную ставку по ипотеке. От каких критериев зависит скидка на ипотеку:\n",
        "\n",
        "1) Если клиент из Дальнего Востока(список регионов определить самостоятельно), то базовая ставка становится 2%.  \n",
        "2) Если количество детей больше 3, то базовая ставка уменьшается на 1%.  \n",
        "3) Если у клиента зарплатный проект в этом банке, то базовая ставка уменьшается на 0.5%.  \n",
        "4) Если в этом же банке будет оформлена страхование, то базовая ставка уменьшается на 1.5% Базовую процентную ставку выбрать самостоятельно. \n",
        "\n",
        "Если клиент оформляет ипотеку по дальневосточной программе, то остальные скидки не применяются.  "
      ],
      "metadata": {
        "id": "Xpxp1e9Qgdjr"
      }
    },
    {
      "cell_type": "code",
      "source": [
        "base_rate = 15\n",
        "children = 2\n",
        "region = 'регион'\n",
        "salary_client = True\n",
        "insurance = True\n",
        "\n",
        "if region == 'Дальний Восток':\n",
        "    base_rate = 2\n",
        "else:\n",
        "    if children >= 3:\n",
        "        base_rate -= 1\n",
        "    if salary_client:\n",
        "        base_rate -= 0.5\n",
        "    if insurance:\n",
        "        base_rate -= 1.5\n",
        "\n",
        "print(base_rate)\n"
      ],
      "metadata": {
        "colab": {
          "base_uri": "https://localhost:8080/"
        },
        "id": "4Mszu2qpfxNi",
        "outputId": "de947b41-fd99-43a6-a562-ac0e08608ee1"
      },
      "execution_count": null,
      "outputs": [
        {
          "output_type": "stream",
          "name": "stdout",
          "text": [
            "13.0\n"
          ]
        }
      ]
    },
    {
      "cell_type": "code",
      "source": [
        "base_rate = 15\n",
        "\n",
        "if children >= 3:\n",
        "    base_rate -= 1\n",
        "if salary_client:\n",
        "    base_rate -= 0.5\n",
        "if insurance:\n",
        "    base_rate -= 1.5\n",
        "if region == 'Дальний Восток':\n",
        "    base_rate = 2\n",
        "\n",
        "print(base_rate)"
      ],
      "metadata": {
        "colab": {
          "base_uri": "https://localhost:8080/"
        },
        "id": "2wi5Se0shpTg",
        "outputId": "d716ea2e-2aa0-4ff2-96a6-a6a1798f3513"
      },
      "execution_count": null,
      "outputs": [
        {
          "output_type": "stream",
          "name": "stdout",
          "text": [
            "13.0\n"
          ]
        }
      ]
    },
    {
      "cell_type": "markdown",
      "source": [
        "Определим квадрант, в котором находятся координаты"
      ],
      "metadata": {
        "id": "Vv1gly9MiKdT"
      }
    },
    {
      "cell_type": "code",
      "source": [
        "x = float(input())\n",
        "y = float(input())\n",
        "\n",
        "if x != 0 and y != 0:\n",
        "    if x > 0 and y > 0:\n",
        "        print('I')\n",
        "    elif x > 0 and y < 0:\n",
        "        print('IV')\n",
        "    elif y > 0:\n",
        "        print('II')\n",
        "    else:\n",
        "        print('III')\n",
        "else:\n",
        "    print('Центр координат') "
      ],
      "metadata": {
        "colab": {
          "base_uri": "https://localhost:8080/"
        },
        "id": "B4iwZMORiHDC",
        "outputId": "3977ef38-59ad-471e-be01-556d5d89ae85"
      },
      "execution_count": null,
      "outputs": [
        {
          "output_type": "stream",
          "name": "stdout",
          "text": [
            "2\n",
            "-6\n",
            "IV\n"
          ]
        }
      ]
    },
    {
      "cell_type": "code",
      "source": [
        "x = float(input())\n",
        "y = float(input())\n",
        "\n",
        "if x != 0 and y != 0:\n",
        "    if x > 0:\n",
        "        if y > 0:\n",
        "            print('I')\n",
        "        else:\n",
        "            print('IV')\n",
        "    else:\n",
        "        if y > 0:\n",
        "            print('II')\n",
        "        else:\n",
        "            print('III')\n",
        "else:\n",
        "    print('Центр координат') "
      ],
      "metadata": {
        "colab": {
          "base_uri": "https://localhost:8080/"
        },
        "id": "5XUzbNyri1Lz",
        "outputId": "c4b99b37-ee53-4e8c-81ad-9d031ed725bd"
      },
      "execution_count": null,
      "outputs": [
        {
          "output_type": "stream",
          "name": "stdout",
          "text": [
            "2\n",
            "-6\n",
            "IV\n"
          ]
        }
      ]
    },
    {
      "cell_type": "code",
      "source": [
        "if x != 0 and y != 0:\n",
        "    if x > 0:\n",
        "        print('I') if y > 0 else print('IV')\n",
        "    else:\n",
        "        print('II') if y > 0 else print('III')\n",
        "else:\n",
        "    print('Центр координат') "
      ],
      "metadata": {
        "colab": {
          "base_uri": "https://localhost:8080/"
        },
        "id": "B1_U9OMujAUz",
        "outputId": "8ef21e85-bc16-4351-9444-f26a988c16cb"
      },
      "execution_count": null,
      "outputs": [
        {
          "output_type": "stream",
          "name": "stdout",
          "text": [
            "IV\n"
          ]
        }
      ]
    },
    {
      "cell_type": "code",
      "source": [],
      "metadata": {
        "id": "fdvbYnNujAaG"
      },
      "execution_count": null,
      "outputs": []
    },
    {
      "cell_type": "markdown",
      "metadata": {
        "id": "aOL5iGS9BlF0"
      },
      "source": [
        "## Рекомендуемые материалы\n",
        "\n",
        "1. Тренажеры: https://t.me/pythontalk_ru/88\n",
        "\n",
        "2. Литература:\n",
        " - А Byte of Python [англ. версия](https://python.swaroopch.com/), [рус. перевод](https://wombat.org.ua/AByteOfPython/AByteofPythonRussian-2.02.pdf). Легально, бесплатно, без СМС и регистрации.\n",
        " - Адитья Бхаргава, Грокаем алгоритмы. [На бумаге](https://bit.ly/3c4Drq3), [Электронная](https://bit.ly/3IWxklj). Бесплатно сами.\n",
        "\n",
        "3. Визуализатор исполнения кода: http://pythontutor.com/visualize.html#mode=edit\n",
        "\n",
        " Он может очень сильно помочь на начальном этапе изчения Python, когда вы пишите свои собственные программы, но ещё не понимаете как именно работает ваш код. Самые частые ошибки новичков – это непонимание границ выполнения ключевых этапов работы программы. Порой очень хороший код не будет работать из-за одной маленькой ошибки."
      ]
    },
    {
      "cell_type": "markdown",
      "metadata": {
        "id": "n0u7ea-9TC6U"
      },
      "source": [
        "**Установка  и настройка Anaconda**\n",
        "\n",
        "\n",
        "https://www.anaconda.com/distribution/\n",
        "\n",
        "1. Запустите скачанный инсталлятор. В первом появившемся окне необходимо нажать “Next”.\n",
        "2. Далее следует принять лицензионное соглашение.\n",
        "3. Выберете одну из опций установки:\n",
        "\n",
        "    * Just Me – только для пользователя, запустившего установку;\n",
        "    * All Users – для всех пользователей. (для тех, кто планирует выйти за пределы анализа данных)\n",
        "    \n",
        "4. Укажите путь, по которому будет установлена Anaconda.\n",
        "5. Укажите дополнительные опции:\n",
        "\n",
        "    * Add Anaconda to the system PATH environment variable – добавить Anaconda в системную переменную PATH\n",
        "    * Register Anaconda as the system Python  – использовать Anaconda, как интерпретатор Python по умолчанию.\n",
        "\n",
        "6. Для начала установки нажмите на кнопку “Install”\n",
        "7. После установки программы запустите Jupyter Notebook  (наберите его в поиске)\n",
        "8. В результате запустится веб-сервер и среда разработки в браузере.\n",
        "9. Создайте ноутбук для разработки, для этого нажмите на кнопку New (в правом углу окна) и в появившемся списке выберете Python.\n"
      ]
    }
  ]
}