{
 "cells": [
  {
   "cell_type": "markdown",
   "id": "6280ee7b",
   "metadata": {},
   "source": [
    "## 2. Введение в типы данных и циклы. Часть 1\n",
    "\n",
    "### Задание 1\n",
    "\n",
    "Дана переменная, в которой хранится слово из латинских букв. Напишите код, который выводит на экран:\n",
    "\n",
    "среднюю букву, если число букв в слове нечетное;\n",
    "две средних буквы, если число букв четное.\n",
    "Примеры работы программы:\n",
    "\n",
    "word = 'test'\n",
    "Результат:\n",
    "es 2.\n",
    "word = 'testing'\n",
    "\n",
    "Результат:\n",
    "t\n",
    "\n",
    "## 2. Introduction to data types and cycles. Part 1\n",
    "\n",
    "### Task 1\n",
    "\n",
    "A variable is given in which a word of Latin letters is stored. Write the code that displays:\n",
    "\n",
    "the middle letter, if the number of letters in the word is odd;\n",
    "two middle letters, if the number of letters is even.\n",
    "Examples of how the program works:\n",
    "\n",
    "word = 'test'\n",
    "Result:\n",
    "es 2.\n",
    "word = 'testing'\n",
    "\n",
    "Result:\n",
    "t"
   ]
  },
  {
   "cell_type": "code",
   "execution_count": 1,
   "id": "a576413b",
   "metadata": {},
   "outputs": [
    {
     "name": "stdout",
     "output_type": "stream",
     "text": [
      "Введите слово: testing\n",
      "t\n"
     ]
    }
   ],
   "source": [
    "word = input(\"Введите слово: \")\n",
    "\n",
    "letters = int(len(word)/2)\n",
    "if len(word)%2 == 0:\n",
    "    print(word[letters-1:letters+1])\n",
    "else:\n",
    "    print(word[letters])"
   ]
  },
  {
   "cell_type": "markdown",
   "id": "254a4dd0",
   "metadata": {},
   "source": [
    "### Задание 2\n",
    "\n",
    "Напишите программу, которая последовательно запрашивает у пользователя числа (по одному за раз) и после первого нуля выводит сумму всех ранее введенных чисел.\n",
    "\n",
    "Примеры работы программы:\n",
    "\n",
    "Введите число:  1\n",
    "\n",
    "Введите число:  4\n",
    "\n",
    "Введите число:  6\n",
    "\n",
    "Введите число:  0\n",
    "Результат: 11\n",
    "\n",
    "Введите число:  0\n",
    "Результат: 0\n",
    "\n",
    "### Task 2\n",
    "\n",
    "Write a program that consistently asks the user for numbers (one at a time) and after the first zero outputs the sum of all previously entered numbers.\n",
    "\n",
    "Examples of how the program works:\n",
    "\n",
    "Enter a number:\n",
    "1\n",
    "\n",
    "Enter a number:\n",
    "4\n",
    "\n",
    "Enter the number:\n",
    "6\n",
    "\n",
    "Enter a number:\n",
    "0\n",
    "Result:\n",
    "11\n",
    "\n",
    "Enter a number:\n",
    "0\n",
    "Result:\n",
    "0"
   ]
  },
  {
   "cell_type": "code",
   "execution_count": 2,
   "id": "10a9d7b6",
   "metadata": {},
   "outputs": [
    {
     "name": "stdout",
     "output_type": "stream",
     "text": [
      "Введите число: 4\n",
      "Введите число: 6\n",
      "Введите число: 0\n",
      "Сумма чисел: 10\n"
     ]
    }
   ],
   "source": [
    "sum = 0\n",
    "while 0 < 1:\n",
    "    number = int(input(\"Введите число: \"))\n",
    "    if number != 0:\n",
    "        sum += number\n",
    "    else:\n",
    "      break\n",
    "print(\"Сумма чисел:\", sum)"
   ]
  },
  {
   "cell_type": "markdown",
   "id": "d6826583",
   "metadata": {},
   "source": [
    "### Задание 3\n",
    "\n",
    "Мы делаем MVP dating-сервиса, и у нас есть список парней и девушек.\n",
    "Выдвигаем гипотезу: лучшие рекомендации мы получим, если просто отсортируем имена по алфавиту и познакомим людей с одинаковыми индексами после сортировки! Но мы не будем никого знакомить, если кто-то может остаться без пары:\n",
    "\n",
    "Примеры работы программы:\n",
    "\n",
    "boys = ['Peter', 'Alex', 'John', 'Arthur', 'Richard']\n",
    "girls = ['Kate', 'Liza', 'Kira', 'Emma', 'Trisha']\n",
    "Результат:\n",
    "\n",
    "Идеальные пары:  \n",
    "Alex и Emma  \n",
    "Arthur и Kate  \n",
    "John и Kira  \n",
    "Peter и Liza  \n",
    "Richard и Trisha \n",
    "boys = ['Peter', 'Alex', 'John', 'Arthur', 'Richard', 'Michael']\n",
    "girls = ['Kate', 'Liza', 'Kira', 'Emma', 'Trisha']\n",
    "Результат:\n",
    "Внимание, кто-то может остаться без пары!\n",
    "\n",
    "### Task 3\n",
    "\n",
    "We are making an MVP of a dating service, and we have a list of guys and girls.\n",
    "We put forward a hypothesis: we will get the best recommendations if we simply sort the names alphabetically and introduce people to the same indexes after sorting! But we will not introduce anyone if someone can stay without a couple:\n",
    "\n",
    "Examples of how the program works:\n",
    "\n",
    "boys = ['Peter', 'Alex', 'John', 'Arthur', 'Richard']\n",
    "girls = ['Kate', 'Lisa', 'Kira', 'Emma', 'Trisha']\n",
    "Result:\n",
    "\n",
    "Perfect couples:\n",
    "\n",
    "Alex and Emma\n",
    "\n",
    "Arthur and Kate\n",
    "\n",
    "John and Kira\n",
    "\n",
    "Peter and Liza\n",
    "\n",
    "Richard and Trisha\n",
    "\n",
    "boys = ['Peter', 'Alex', 'John', 'Arthur', 'Richard', 'Michael']\n",
    "girls = ['Kate', 'Lisa', 'Kira', 'Emma', 'Trisha']\n",
    "\n",
    "Result:\n",
    "\n",
    "Attention, someone may be left without a pair!"
   ]
  },
  {
   "cell_type": "code",
   "execution_count": 3,
   "id": "f1b137bd",
   "metadata": {},
   "outputs": [
    {
     "name": "stdout",
     "output_type": "stream",
     "text": [
      "Lubov и Ivan\n",
      "Mila и Konstantin\n",
      "Nadezhda и Nestor\n",
      "Svetlana и Roman\n",
      "Vasilisa и Svyatoslav\n"
     ]
    }
   ],
   "source": [
    "boys = [\"Svyatoslav\", \"Nestor\", \"Ivan\", \"Roman\", \"Konstantin\"]\n",
    "girls = [\"Vasilisa\", \"Lubov\", \"Nadezhda\", \"Svetlana\", \"Mila\"]\n",
    "\n",
    "if len(boys) != len(girls):\n",
    "  print('Внимание, кто-то может остаться без пары')\n",
    "else:\n",
    "  boys.sort()\n",
    "  girls.sort() \n",
    "  boys_and_girls = zip(girls, boys)\n",
    "  for better_boys_and_girls in boys_and_girls:\n",
    "    print(better_boys_and_girls[0], \"и\", better_boys_and_girls[1])"
   ]
  },
  {
   "cell_type": "markdown",
   "id": "443e0336",
   "metadata": {},
   "source": [
    "### Задание 4\n",
    "\n",
    "У нас есть список, содержащий информацию о среднедневной температуре в Фаренгейтах за произвольный период по странам (структура данных в примере). Необходимо написать код, который рассчитает среднюю температуру за период в Цельсиях(!) для каждой страны.\n",
    "\n",
    "Пример работы программы:\n",
    "\n",
    "countries_temperature = [\n",
    "\n",
    "    ['Thailand', [75.2, 77, 78.8, 73.4, 68, 75.2, 77]],\n",
    "    ['Germany', [57.2, 55.4, 59, 59, 53.6]],\n",
    "    ['Russia', [35.6, 37.4, 39.2, 41, 42.8, 39.2, 35.6]],\n",
    "    ['Poland', [50, 50, 53.6, 57.2, 55.4, 55.4]]\n",
    "]\n",
    "Результат:\n",
    "\n",
    "Средняя температура в странах:\n",
    "\n",
    "Thailand  -  23.9 С\n",
    "Germany  -  13.8 С\n",
    "Russia  -  3.7 С\n",
    "Poland  -  12.0 С\n",
    "\n",
    "### Task 4\n",
    "\n",
    "We have a list containing information about the average daily temperature in Fahrenheit for an arbitrary period by country (the data structure in the example). It is necessary to write a code that will calculate the average temperature for the period in Celsius (!) for each country.\n",
    "\n",
    "Example of how the program works:\n",
    "\n",
    "countries_temperature = [\n",
    "\n",
    "    ['Thailand', [75.2, 77, 78.8, 73.4, 68, 75.2, 77]],\n",
    "    ['Germany', [57.2, 55.4, 59, 59, 53.6]],\n",
    "    ['Russia', [35.6, 37.4, 39.2, 41, 42.8, 39.2, 35.6]],\n",
    "    ['Poland', [50, 50, 53.6, 57.2, 55.4, 55.4]]\n",
    "]\n",
    "Result:\n",
    "\n",
    "Average temperature in the countries:\n",
    "\n",
    "Thailand - 23.9 S\n",
    "Germany - 13.8 S\n",
    "Russia - 3.7 S\n",
    "Poland - 12.0 S"
   ]
  },
  {
   "cell_type": "code",
   "execution_count": 4,
   "id": "bdcf55e7",
   "metadata": {},
   "outputs": [
    {
     "name": "stdout",
     "output_type": "stream",
     "text": [
      "Thailand 75\n",
      "Germany 57\n",
      "Russia 39\n",
      "Poland 53\n"
     ]
    }
   ],
   "source": [
    "countries_temperature = [\n",
    " ['Thailand', [75.2, 77, 78.8, 73.4, 68, 75.2, 77]],\n",
    " ['Germany', [57.2, 55.4, 59, 59, 53.6, 55.4, 57.2]],\n",
    " ['Russia', [35.6, 37.4, 39.2, 41, 42.8, 39.2, 35.6]],\n",
    " ['Poland', [50, 50, 53.6, 57.2, 55.4, 55.4, 51.8]],\n",
    "]\n",
    "\n",
    "for country in countries_temperature:\n",
    "    sum = 0\n",
    "    for day in country[1]:\n",
    "        sum+=day\n",
    "    print(country[0], round(sum/7))"
   ]
  },
  {
   "cell_type": "markdown",
   "id": "29fa7b91",
   "metadata": {},
   "source": [
    "### Задание 5 (необязательное)\n",
    "\n",
    "Дан поток логов по количеству просмотренных страниц для каждого пользователя. Вам необходимо написать алгоритм, который считает среднее значение просмотров на пользователя. Т. е. надо посчитать отношение суммы всех просмотров к количеству уникальных пользователей.\n",
    "\n",
    "### Task 5 (optional)\n",
    "\n",
    "A log stream is given by the number of pages viewed for each user. You need to write an algorithm that calculates the average value of views per user. I.e., you need to calculate the ratio of the sum of all views to the number of unique users."
   ]
  },
  {
   "cell_type": "code",
   "execution_count": 17,
   "id": "fccab82f",
   "metadata": {},
   "outputs": [],
   "source": [
    "stream = [\n",
    "    '2018-01-01,user1,3',\n",
    "    '2018-01-07,user1,4',\n",
    "    '2018-03-29,user1,1',\n",
    "    '2018-04-04,user1,13',\n",
    "    '2018-01-05,user2,7',\n",
    "    '2018-06-14,user3,4',\n",
    "    '2018-07-02,user3,10',\n",
    "   ' 2018-03-21,user4,19',\n",
    "    '2018-03-22,user4,4',\n",
    "    '2018-04-22,user4,8',\n",
    "    '2018-05-03,user4,9',\n",
    "    '2018-05-11,user4,11'\n",
    "]"
   ]
  },
  {
   "cell_type": "code",
   "execution_count": 19,
   "id": "0980f0fa",
   "metadata": {},
   "outputs": [
    {
     "name": "stdout",
     "output_type": "stream",
     "text": [
      "23.25\n"
     ]
    }
   ],
   "source": [
    "sum_views = 0\n",
    "users_set = set()\n",
    "for i in range (len(stream)):\n",
    "  log_string = stream[i].split(',')\n",
    "  sum_views = sum_views + int(log_string[-1])\n",
    "  users_set.add(log_string[1])\n",
    "\n",
    "print(round(sum_views / len(users_set),2))"
   ]
  },
  {
   "cell_type": "markdown",
   "id": "e2ba5943",
   "metadata": {},
   "source": [
    "## Задание 6 (необязательное)\n",
    "\n",
    "Необходимо у пользователя запрашивать набор чисел разделенных пробелом. В результате в отсортированном порядке должны выводиться числа, которые повторяются в вводе более одного раза.\n",
    "\n",
    "## Task 6 (optional)\n",
    "\n",
    "It is necessary to request a set of numbers separated by a space from the user. As a result, numbers that are repeated more than once in the input should be output in sorted order."
   ]
  },
  {
   "cell_type": "code",
   "execution_count": 20,
   "id": "1e46092e",
   "metadata": {},
   "outputs": [
    {
     "name": "stdout",
     "output_type": "stream",
     "text": [
      "1, 15, 2, 200\n"
     ]
    }
   ],
   "source": [
    "user_input = '10 15 15 103 200 200 200 1 1 1 1 1 2 2 2'.split()\n",
    "\n",
    "result_list = sorted(list({i for i in user_input if user_input.count(i) > 1}))\n",
    "print(', '.join(str(i) for i in result_list))"
   ]
  },
  {
   "cell_type": "markdown",
   "id": "b6bde504",
   "metadata": {},
   "source": [
    "![](Python_logo.png)"
   ]
  }
 ],
 "metadata": {
  "kernelspec": {
   "display_name": "Python 3 (ipykernel)",
   "language": "python",
   "name": "python3"
  },
  "language_info": {
   "codemirror_mode": {
    "name": "ipython",
    "version": 3
   },
   "file_extension": ".py",
   "mimetype": "text/x-python",
   "name": "python",
   "nbconvert_exporter": "python",
   "pygments_lexer": "ipython3",
   "version": "3.9.13"
  }
 },
 "nbformat": 4,
 "nbformat_minor": 5
}
