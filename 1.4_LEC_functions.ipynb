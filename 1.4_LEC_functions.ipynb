{
 "cells": [
  {
   "cell_type": "markdown",
   "metadata": {
    "id": "U72FhsNpDhxX"
   },
   "source": [
    "\n",
    "\n",
    "1.   Вспомним args\n",
    "2.   Вспомним lambda-функции и посмотрим на итераторы\n",
    "3.   Напишем программу в процедурном стиле на основе функций\n",
    "\n",
    "\n"
   ]
  },
  {
   "cell_type": "markdown",
   "metadata": {
    "id": "XOY7VKI357LA"
   },
   "source": [
    "### Практика. Напишем функцию, которая определяет является ли слово палиндромом\n",
    "\n",
    "Пример работы программы:\n",
    "```\n",
    "print(is_palindrom('Радар'))\n",
    "True\n",
    "```\n",
    "\n",
    "```\n",
    "print(is_palindrom('строка'))\n",
    "False\n",
    "```"
   ]
  },
  {
   "cell_type": "code",
   "execution_count": null,
   "metadata": {
    "colab": {
     "base_uri": "https://localhost:8080/"
    },
    "id": "TL8qWkEI6mLE",
    "outputId": "915746e6-355a-4b92-cc51-630db0c405f5"
   },
   "outputs": [
    {
     "data": {
      "text/plain": [
       "True"
      ]
     },
     "execution_count": 8,
     "metadata": {},
     "output_type": "execute_result"
    }
   ],
   "source": [
    "def palindrom(string):\n",
    "    string = string.lower().replace(' ', '')\n",
    "    return string[::-1] == string\n",
    "\n",
    "palindrom('А роза упала на лапу Азора')"
   ]
  },
  {
   "cell_type": "markdown",
   "metadata": {
    "id": "BF7EhPbcSVBV"
   },
   "source": [
    "## args and kwargs\n",
    "Иногда возникает ситуация, когда вы заранее не знаете, какое количество аргументов будет необходимо принять функции. В этом случае следует использовать аргументы произвольной длины ([args и kwargs](https://teletype.in/@pythontalk/python_asteriks)). Они задаются произвольным именем переменной, перед которой ставится звездочка (args) или две здездочки (kwargs)."
   ]
  },
  {
   "cell_type": "code",
   "execution_count": null,
   "metadata": {
    "colab": {
     "base_uri": "https://localhost:8080/"
    },
    "id": "ilXaysWUawBT",
    "outputId": "7c46a6ac-869e-4a1d-e6f3-21360f5b66a7"
   },
   "outputs": [
    {
     "name": "stdout",
     "output_type": "stream",
     "text": [
      "(1, 2, 3, 4, 5, 6, 7, 10)\n",
      "{'divisor': 7, 'accuracy': 2, 'some': 1}\n",
      "5.43\n"
     ]
    }
   ],
   "source": [
    "# Сумму всех позиционных аргументов вычисляем с помощью sum\n",
    "# *args упаковывает все позиционные аргументы в кортеж\n",
    "# **kwargs упаковывает все именованные аргументы в словарь, из которого получаем значение по ключу\n",
    "\n",
    "def sum_division(*args, **kwargs):\n",
    "    print(args)\n",
    "    print(kwargs)\n",
    "    return round(sum(args) / kwargs['divisor'], kwargs['accuracy'])\n",
    "\n",
    "print(sum_division(1, 2, 3, 4, 5, 6, 7, 10, divisor=7, accuracy=2, some=1))"
   ]
  },
  {
   "cell_type": "code",
   "execution_count": null,
   "metadata": {
    "id": "9XSfxweRawBT"
   },
   "outputs": [],
   "source": [
    "# распаковка позволяет отделить создание списка аргументов от их передачи в функцию\n",
    "numbers = [1, 2, 3, 4, 5, 6, 7, 8, 9, 10]\n",
    "params = {'divisor':7,'accuracy':2}\n",
    "\n",
    "print(sum_division(*numbers, **params))"
   ]
  },
  {
   "cell_type": "markdown",
   "metadata": {
    "id": "6GGM5SzuRYl3"
   },
   "source": [
    "### Практика. Напишем функцию, которая будет находить среднюю цену квартиры по всем переданным в нее районам города"
   ]
  },
  {
   "cell_type": "code",
   "execution_count": null,
   "metadata": {
    "id": "CRljX_0tRexA"
   },
   "outputs": [],
   "source": [
    "district_1 = {'flat_1': 10500, 'flat_2': 11000}\n",
    "district_2 = {'flat_3': 15000}\n",
    "district_3 = {'flat_4': 6500, 'flat_5': 7000, 'flat_6': 6000}   "
   ]
  },
  {
   "cell_type": "code",
   "execution_count": null,
   "metadata": {
    "colab": {
     "base_uri": "https://localhost:8080/"
    },
    "id": "d9DWnJhOqVVL",
    "outputId": "8b1402ce-a690-4101-b1aa-ed8e75f31f86"
   },
   "outputs": [
    {
     "data": {
      "text/plain": [
       "9333.333333333334"
      ]
     },
     "execution_count": 18,
     "metadata": {},
     "output_type": "execute_result"
    }
   ],
   "source": [
    "def average_price(distrcits):\n",
    "    return sum(distrcits.values()) / len(distrcits.values())\n",
    "\n",
    "average_price({**district_2, **district_1, **district_3})"
   ]
  },
  {
   "cell_type": "code",
   "execution_count": null,
   "metadata": {
    "colab": {
     "base_uri": "https://localhost:8080/"
    },
    "id": "hjoxWHPmx3aW",
    "outputId": "e48fbbe7-25f2-44c2-e6dd-e2afb72062e7"
   },
   "outputs": [
    {
     "name": "stdout",
     "output_type": "stream",
     "text": [
      "Введите названия районов через ,d1, d3\n"
     ]
    },
    {
     "data": {
      "text/plain": [
       "['d1', 'd3']"
      ]
     },
     "execution_count": 20,
     "metadata": {},
     "output_type": "execute_result"
    }
   ],
   "source": [
    "districts = {'d1': {'flat_1': 10500, 'flat_2': 11000},\n",
    "             'd2': {'flat_3': 15000},\n",
    "             'd3': {'flat_4': 6500, 'flat_5': 7000, 'flat_6': 6000}\n",
    "}\n",
    "\n",
    "user_d = input('Введите названия районов через ,').split(', ')\n",
    "\n",
    "user_d"
   ]
  },
  {
   "cell_type": "code",
   "execution_count": null,
   "metadata": {
    "colab": {
     "base_uri": "https://localhost:8080/"
    },
    "id": "-oqSgaJDy4BU",
    "outputId": "deed827d-ec16-4d65-c06a-5f50c34b815b"
   },
   "outputs": [
    {
     "data": {
      "text/plain": [
       "8200.0"
      ]
     },
     "execution_count": 23,
     "metadata": {},
     "output_type": "execute_result"
    }
   ],
   "source": [
    "def get_avg_price(d_list):\n",
    "    res = {}\n",
    "    for d in d_list:\n",
    "        res.update(districts[d])\n",
    "    return sum(res.values()) / len(res)\n",
    "\n",
    "get_avg_price(user_d)"
   ]
  },
  {
   "cell_type": "code",
   "execution_count": null,
   "metadata": {
    "colab": {
     "base_uri": "https://localhost:8080/"
    },
    "id": "YlkV5DCpzp5A",
    "outputId": "adeb3273-73d4-49b7-8fa8-853cad7355fe"
   },
   "outputs": [
    {
     "data": {
      "text/plain": [
       "[('flat_1', 10500), ('flat_2', 11000), ('flat_3', 15000)]"
      ]
     },
     "execution_count": 25,
     "metadata": {},
     "output_type": "execute_result"
    }
   ],
   "source": [
    "list(district_1.items()) + list(district_2.items())"
   ]
  },
  {
   "cell_type": "markdown",
   "metadata": {
    "id": "_mY3dvurRsd4"
   },
   "source": [
    "## Комплексный пример"
   ]
  },
  {
   "cell_type": "code",
   "execution_count": null,
   "metadata": {
    "id": "OPd5-8lVRuL5"
   },
   "outputs": [],
   "source": [
    "students_list = [\n",
    "    {\"name\": \"Василий\", \"surname\": \"Теркин\", \"gender\": \"\", \"program_exp\": True, \"grade\": [8, 8, 9, 10], \"exam\": 8},\n",
    "    {\"name\": \"Мария\", \"surname\": \"Павлова\", \"gender\": \"ж\", \"program_exp\": True, \"grade\": [7, 8, 9, 7, 9], \"exam\": 9},\n",
    "    {\"name\": \"Ирина\", \"surname\": \"Андреева\", \"gender\": \"ж\", \"program_exp\": False, \"grade\": [10, 9, 8, 10], \"exam\": 7},\n",
    "    {\"name\": \"Татьяна\", \"surname\": \"Сидорова\", \"gender\": \"ж\", \"program_exp\": False, \"grade\": [7, 8, 8, 9, 8],\"exam\": 10},\n",
    "    {\"name\": \"Иван\", \"surname\": \"Васильев\", \"gender\": \"м\", \"program_exp\": True, \"grade\": [9, 8, 9, 6, 9, 4], \"exam\": 5},\n",
    "    {\"name\": \"Роман\", \"surname\": \"Золотарев\", \"gender\": \"м\", \"program_exp\": False, \"grade\": [8, 9, 9, 6, 9], \"exam\": 6}\n",
    "]"
   ]
  },
  {
   "cell_type": "code",
   "execution_count": null,
   "metadata": {
    "id": "8SXGrYZLqXjx"
   },
   "outputs": [],
   "source": [
    "def change_type(students, key):\n",
    "    for student in students:\n",
    "        student[key] = str(student[key])\n",
    "change_type(students_list, 'exam')\n",
    "# students_list"
   ]
  },
  {
   "cell_type": "code",
   "execution_count": null,
   "metadata": {
    "colab": {
     "base_uri": "https://localhost:8080/"
    },
    "id": "pp3BuTSe6d8w",
    "outputId": "673238c2-c860-449a-b610-ad335af28761"
   },
   "outputs": [
    {
     "data": {
      "text/plain": [
       "[{'name': 'Мария',\n",
       "  'surname': 'Павлова',\n",
       "  'gender': 'ж',\n",
       "  'program_exp': True,\n",
       "  'grade': [7, 8, 9, 7, 9],\n",
       "  'exam': '9'},\n",
       " {'name': 'Ирина',\n",
       "  'surname': 'Андреева',\n",
       "  'gender': 'ж',\n",
       "  'program_exp': False,\n",
       "  'grade': [10, 9, 8, 10],\n",
       "  'exam': '7'},\n",
       " {'name': 'Татьяна',\n",
       "  'surname': 'Сидорова',\n",
       "  'gender': 'ж',\n",
       "  'program_exp': False,\n",
       "  'grade': [7, 8, 8, 9, 8],\n",
       "  'exam': '10'}]"
      ]
     },
     "execution_count": 56,
     "metadata": {},
     "output_type": "execute_result"
    }
   ],
   "source": [
    "def filter_students(students, exp=None, gender=None):\n",
    "    res = filter(lambda student: \n",
    "                 (student['program_exp'] is exp or exp is None) and\n",
    "                 (student['gender'] == gender or gender is None), \n",
    "                 students)\n",
    "    return list(res)\n",
    "\n",
    "filter_students(students_list, None, 'ж')\n",
    "filter_students(students_list, gender='ж')"
   ]
  },
  {
   "cell_type": "code",
   "execution_count": null,
   "metadata": {
    "id": "JzUSwoP-9gTB"
   },
   "outputs": [],
   "source": [
    "# datetime"
   ]
  },
  {
   "cell_type": "code",
   "execution_count": null,
   "metadata": {
    "colab": {
     "base_uri": "https://localhost:8080/"
    },
    "id": "A7yHex1Z17Im",
    "outputId": "2d4f66cf-d1c8-408a-9fec-76b8b02444e6"
   },
   "outputs": [
    {
     "name": "stdout",
     "output_type": "stream",
     "text": [
      "8.28\n",
      "8.48\n",
      "8.08\n"
     ]
    }
   ],
   "source": [
    "# def get_avg_hw_grade(students, exp=None):\n",
    "#     hw_grade = 0\n",
    "#     counter = 0\n",
    "#     for student in students:\n",
    "#         if student['program_exp'] is exp or exp is None:\n",
    "#             hw_grade += sum(student['grade']) / len(student['grade'])\n",
    "#             counter += 1\n",
    "\n",
    "#     return round(hw_grade / counter, 2)\n",
    "\n",
    "# print(get_avg_hw_grade(students_list))\n",
    "# print(get_avg_hw_grade(students_list, False))\n",
    "# print(get_avg_hw_grade(students_list, True))\n",
    "# print(get_avg_hw_grade(students_list))"
   ]
  },
  {
   "cell_type": "code",
   "execution_count": null,
   "metadata": {
    "colab": {
     "base_uri": "https://localhost:8080/"
    },
    "id": "r7JFrpyA3bzS",
    "outputId": "f0e6b65b-d0a5-4308-f34c-dc5c975e690e"
   },
   "outputs": [
    {
     "data": {
      "text/plain": [
       "8.08"
      ]
     },
     "execution_count": 44,
     "metadata": {},
     "output_type": "execute_result"
    }
   ],
   "source": [
    "def get_avg_hw_grade(students):\n",
    "    res = [sum(student['grade']) / len(student['grade']) for student in students]\n",
    "    return round(sum(res) / len(res), 2)\n",
    "\n",
    "get_avg_hw_grade(filter_students(students_list, True))    "
   ]
  },
  {
   "cell_type": "code",
   "execution_count": null,
   "metadata": {
    "colab": {
     "base_uri": "https://localhost:8080/"
    },
    "id": "uqt04xE9AZjy",
    "outputId": "a5e058e9-7760-4d71-f562-57a6f45670fb"
   },
   "outputs": [
    {
     "name": "stdout",
     "output_type": "stream",
     "text": [
      "Введите команду1\n",
      "8.28\n",
      "Введите команду2\n",
      "8.42\n",
      "Введите команду3\n",
      "8.08\n",
      "Введите команду1\n",
      "8.28\n",
      "Введите команду2\n",
      "8.42\n",
      "Введите команду3\n",
      "8.08\n",
      "Введите командуq\n",
      "Выход\n"
     ]
    }
   ],
   "source": [
    "def main(students):\n",
    "    while True:\n",
    "        comand = input('Введите команду')\n",
    "        if comand == '1':\n",
    "            print(get_avg_hw_grade(filter_students(students)))\n",
    "        elif comand == '2':\n",
    "            print(get_avg_hw_grade(filter_students(students, None, 'ж')))\n",
    "        elif comand == '3':\n",
    "            print(get_avg_hw_grade(filter_students(students, True)))\n",
    "        elif comand == 'q':\n",
    "            print('Выход')\n",
    "            break\n",
    "\n",
    "\n",
    "main(students_list)      "
   ]
  },
  {
   "cell_type": "code",
   "execution_count": null,
   "metadata": {
    "colab": {
     "base_uri": "https://localhost:8080/"
    },
    "id": "zVV3Zghw_pVl",
    "outputId": "8ea08183-5763-4f36-bb4c-70706560cef8"
   },
   "outputs": [
    {
     "name": "stdout",
     "output_type": "stream",
     "text": [
      "2207 876234 : Василий Гупкин passport\n",
      "11-2 : Геннадий Покемонов invoice\n",
      "10006 : Аристарх Павлов insurance\n"
     ]
    }
   ],
   "source": [
    "documents = [\n",
    "    {'type': 'passport', 'number': '2207 876234', 'name': 'Василий Гупкин'},\n",
    "    {'type': 'invoice', 'number': '11-2', 'name': 'Геннадий Покемонов'},\n",
    "    {'type': 'insurance', 'number': '10006', 'name': 'Аристарх Павлов'}\n",
    "]\n",
    "\n",
    "for doc in documents:\n",
    "    print(f\"{doc['number']} : {doc['name']} {doc['type']}\")"
   ]
  },
  {
   "cell_type": "markdown",
   "metadata": {
    "id": "mgMjftejd7Ph"
   },
   "source": [
    "## Анонимные функции, функции map и filter\n",
    "\n",
    "[Анонимные функции](https://habr.com/ru/post/507642/) создаются при помощи инструкции lambda и используются для более краткой записи функций с одним выражением. Выполняются быстрее обычных и не требуют инструкции return."
   ]
  },
  {
   "cell_type": "markdown",
   "metadata": {
    "id": "1whxQleKMlLv"
   },
   "source": [
    "Получим список из средних цен в каждой категории товаров"
   ]
  },
  {
   "cell_type": "code",
   "execution_count": null,
   "metadata": {
    "id": "uacfNii3HqFO"
   },
   "outputs": [],
   "source": []
  },
  {
   "cell_type": "code",
   "execution_count": null,
   "metadata": {
    "id": "xZTL8aTPMNEE"
   },
   "outputs": [],
   "source": [
    "prices_by_categories = [[100, 200, 400, 600], [200, 500], [100, 200, 100, 100], [800, 900]]"
   ]
  },
  {
   "cell_type": "code",
   "execution_count": null,
   "metadata": {
    "colab": {
     "base_uri": "https://localhost:8080/"
    },
    "id": "m1DA5YEIMxw3",
    "outputId": "3282862c-aa15-4e28-9643-3b7e784d4bb1"
   },
   "outputs": [
    {
     "name": "stdout",
     "output_type": "stream",
     "text": [
      "[325.0, 350.0, 125.0, 850.0]\n"
     ]
    }
   ],
   "source": [
    "def get_avg_prices(prices):\n",
    "    mean_prices = []\n",
    "    for category in prices:\n",
    "        mean_prices.append(sum(category) / len(category))\n",
    "    return mean_prices\n",
    "\n",
    "print(get_avg_prices(prices_by_categories))"
   ]
  },
  {
   "cell_type": "code",
   "execution_count": null,
   "metadata": {
    "colab": {
     "base_uri": "https://localhost:8080/"
    },
    "id": "3dbFgNmqqbwS",
    "outputId": "dd132725-88d8-428e-9638-7b8cfe7714d0"
   },
   "outputs": [
    {
     "data": {
      "text/plain": [
       "[325.0, 350.0, 125.0, 850.0]"
      ]
     },
     "execution_count": 65,
     "metadata": {},
     "output_type": "execute_result"
    }
   ],
   "source": [
    "list(map(lambda el: sum(el)/len(el), prices_by_categories))"
   ]
  },
  {
   "cell_type": "markdown",
   "metadata": {
    "id": "yH-gS2ATQesE"
   },
   "source": [
    "Решим задачу с фильтрацией структуры по гордам без цикла"
   ]
  },
  {
   "cell_type": "code",
   "execution_count": null,
   "metadata": {
    "id": "EBLHeZpvQnFZ"
   },
   "outputs": [],
   "source": [
    "geo_logs = [\n",
    "    {'visit1': ['Москва', 'Россия']},\n",
    "    {'visit2': ['Дели', 'Индия']},\n",
    "    {'visit3': ['Владимир', 'Россия']},\n",
    "    {'visit4': ['Лиссабон', 'Португалия']},\n",
    "    {'visit5': ['Париж', 'Франция']},\n",
    "    {'visit7': ['Тула', 'Россия']},\n",
    "    {'visit9': ['Курск', 'Россия']},\n",
    "    {'visit10': ['Архангельск', 'Россия']}\n",
    "]"
   ]
  },
  {
   "cell_type": "code",
   "execution_count": null,
   "metadata": {
    "colab": {
     "base_uri": "https://localhost:8080/"
    },
    "id": "DaRAQ3R1QsP1",
    "outputId": "d102c49f-c787-49ee-a078-9077f223ebc4"
   },
   "outputs": [
    {
     "name": "stdout",
     "output_type": "stream",
     "text": [
      "[{'visit1': ['Москва', 'Россия']}, {'visit3': ['Владимир', 'Россия']}, {'visit7': ['Тула', 'Россия']}, {'visit9': ['Курск', 'Россия']}, {'visit10': ['Архангельск', 'Россия']}]\n"
     ]
    }
   ],
   "source": [
    "result = []\n",
    "for log in geo_logs:\n",
    "    if 'Россия' in list(log.values())[0]:\n",
    "        result.append(log)\n",
    "        \n",
    "print(result)"
   ]
  },
  {
   "cell_type": "code",
   "execution_count": null,
   "metadata": {
    "colab": {
     "base_uri": "https://localhost:8080/"
    },
    "id": "69ru-aTZQu8j",
    "outputId": "99dd320e-861c-49dd-8375-8bd9da7d6da8"
   },
   "outputs": [
    {
     "data": {
      "text/plain": [
       "[{'visit1': ['Москва', 'Россия']},\n",
       " {'visit3': ['Владимир', 'Россия']},\n",
       " {'visit7': ['Тула', 'Россия']},\n",
       " {'visit9': ['Курск', 'Россия']},\n",
       " {'visit10': ['Архангельск', 'Россия']}]"
      ]
     },
     "execution_count": 68,
     "metadata": {},
     "output_type": "execute_result"
    }
   ],
   "source": [
    "list(filter(lambda log: 'Россия' in list(log.values())[0], geo_logs))"
   ]
  },
  {
   "cell_type": "code",
   "execution_count": null,
   "metadata": {
    "id": "J5pIt-BVE625"
   },
   "outputs": [],
   "source": [
    "def move(directories):\n",
    "    if doc_number not in directories:\n",
    "        return...\n",
    "    for n, d in directories.items():\n",
    "        if doc_number in d:\n",
    "            directories[new_shelf] += doc_number\n",
    "            d.remove(doc_number)\n",
    "\n",
    "            return\n",
    "    print('Не найден')"
   ]
  },
  {
   "cell_type": "code",
   "execution_count": null,
   "metadata": {
    "colab": {
     "base_uri": "https://localhost:8080/"
    },
    "id": "tnVaf4Q6Fo0H",
    "outputId": "87f076a2-fead-4a50-f92c-1196aa6f5727"
   },
   "outputs": [
    {
     "data": {
      "text/plain": [
       "11"
      ]
     },
     "execution_count": 82,
     "metadata": {},
     "output_type": "execute_result"
    }
   ],
   "source": [
    "my_func = lambda x, y: x+y\n",
    "\n",
    "my_func(5, 6)\n",
    "\n"
   ]
  },
  {
   "cell_type": "code",
   "execution_count": null,
   "metadata": {
    "colab": {
     "base_uri": "https://localhost:8080/"
    },
    "id": "Tz_84J1sFzFL",
    "outputId": "0f53f1ce-5029-4ed1-8ed4-aa35367eb397"
   },
   "outputs": [
    {
     "data": {
      "text/plain": [
       "9"
      ]
     },
     "execution_count": 84,
     "metadata": {},
     "output_type": "execute_result"
    }
   ],
   "source": [
    "(lambda x, y: x+y)(4,5)"
   ]
  },
  {
   "cell_type": "markdown",
   "metadata": {
    "id": "ONpdieq_fpaF"
   },
   "source": [
    "## Цикл / рекурсия / reduce ?\n",
    "\n",
    "Напишем функцию, преобразующую произвольный список вида `['2018-01-01', 'yandex', 'cpc', 100]` (он может быть любой длины) в словарь `{'2018-01-01': {'yandex': {'cpc': 100}}}`"
   ]
  },
  {
   "cell_type": "code",
   "execution_count": null,
   "metadata": {
    "id": "GEn97dBdfxx_"
   },
   "outputs": [],
   "source": [
    "some_list = ['2018-01-01', 'yandex', 'cpc', 100]"
   ]
  },
  {
   "cell_type": "code",
   "execution_count": null,
   "metadata": {
    "colab": {
     "base_uri": "https://localhost:8080/"
    },
    "id": "DeIngK7nC8AO",
    "outputId": "e9328770-afd4-42e2-9650-5ed45056fd56"
   },
   "outputs": [
    {
     "data": {
      "text/plain": [
       "-1"
      ]
     },
     "execution_count": 80,
     "metadata": {},
     "output_type": "execute_result"
    }
   ],
   "source": [
    "def get_dict(some_list):\n",
    "    res = some_list[-1]\n",
    "    for el in reversed(some_list[:-1]):\n",
    "        res = {el: res}\n",
    "    return res\n",
    "\n",
    "get_dict(some_list)"
   ]
  },
  {
   "cell_type": "code",
   "execution_count": null,
   "metadata": {
    "colab": {
     "base_uri": "https://localhost:8080/"
    },
    "id": "VrartfKXDUuW",
    "outputId": "c0383581-0908-4b0a-dfe7-e45715d00721"
   },
   "outputs": [
    {
     "data": {
      "text/plain": [
       "2520"
      ]
     },
     "execution_count": 74,
     "metadata": {},
     "output_type": "execute_result"
    }
   ],
   "source": [
    "from functools import reduce\n",
    "\n",
    "reduce(lambda a,b: a*b, [1, 5, 7, 8, 9])"
   ]
  },
  {
   "cell_type": "code",
   "execution_count": null,
   "metadata": {
    "colab": {
     "base_uri": "https://localhost:8080/"
    },
    "id": "Md52UNw3D49e",
    "outputId": "97e027f2-f513-457c-a857-081152a8631d"
   },
   "outputs": [
    {
     "name": "stdout",
     "output_type": "stream",
     "text": [
      "{'2018-01-01': {'yandex': {'cpc': 100}}}\n"
     ]
    }
   ],
   "source": [
    "print(reduce(lambda last, prev: {prev: last}, reversed(some_list)))"
   ]
  },
  {
   "cell_type": "code",
   "execution_count": null,
   "metadata": {
    "id": "yKfYs2AeEO0_"
   },
   "outputs": [],
   "source": []
  },
  {
   "cell_type": "code",
   "execution_count": null,
   "metadata": {
    "id": "Ck9UZINMG2Jh"
   },
   "outputs": [],
   "source": [
    "res = {'sdg': (lambda x,y: x+y)}\n",
    "\n",
    "res[....]()"
   ]
  }
 ],
 "metadata": {
  "colab": {
   "provenance": []
  },
  "kernelspec": {
   "display_name": "Python 3 (ipykernel)",
   "language": "python",
   "name": "python3"
  },
  "language_info": {
   "codemirror_mode": {
    "name": "ipython",
    "version": 3
   },
   "file_extension": ".py",
   "mimetype": "text/x-python",
   "name": "python",
   "nbconvert_exporter": "python",
   "pygments_lexer": "ipython3",
   "version": "3.9.13"
  }
 },
 "nbformat": 4,
 "nbformat_minor": 1
}
